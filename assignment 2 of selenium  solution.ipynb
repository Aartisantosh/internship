{
 "cells": [
  {
   "cell_type": "markdown",
   "id": "b782cc6a",
   "metadata": {},
   "source": [
    "Q1: Write a python program to scrape data for “Data Analyst” Job position in “Bangalore” location. You\n",
    "have to scrape the job-title, job-location, company_name, experience_required. You have to scrape first 10\n",
    "jobs data.\n",
    "This task will be done in following steps:\n",
    "1. First get the webpage https://www.shine.com/\n",
    "2. Enter “Data Analyst” in “Job title, Skills” field and enter “Bangalore” in “enter the location” field.\n",
    "3. Then click the searchbutton.\n",
    "4. Then scrape the data for the first 10 jobs results you get.\n",
    "5. Finally create a dataframe of the scraped data.\n",
    "Note: All of the above steps have to be done in code. No step is to be done manually."
   ]
  },
  {
   "cell_type": "code",
   "execution_count": 37,
   "id": "65abb0b3",
   "metadata": {},
   "outputs": [
    {
     "name": "stdout",
     "output_type": "stream",
     "text": [
      "Requirement already satisfied: selenium in c:\\users\\dell\\anaconda3\\lib\\site-packages (4.16.0)\n",
      "Requirement already satisfied: trio~=0.17 in c:\\users\\dell\\anaconda3\\lib\\site-packages (from selenium) (0.24.0)\n",
      "Requirement already satisfied: trio-websocket~=0.9 in c:\\users\\dell\\anaconda3\\lib\\site-packages (from selenium) (0.11.1)\n",
      "Requirement already satisfied: certifi>=2021.10.8 in c:\\users\\dell\\anaconda3\\lib\\site-packages (from selenium) (2022.12.7)\n",
      "Requirement already satisfied: urllib3[socks]<3,>=1.26 in c:\\users\\dell\\anaconda3\\lib\\site-packages (from selenium) (1.26.14)\n",
      "Requirement already satisfied: attrs>=20.1.0 in c:\\users\\dell\\anaconda3\\lib\\site-packages (from trio~=0.17->selenium) (22.1.0)\n",
      "Requirement already satisfied: exceptiongroup in c:\\users\\dell\\anaconda3\\lib\\site-packages (from trio~=0.17->selenium) (1.2.0)\n",
      "Requirement already satisfied: sortedcontainers in c:\\users\\dell\\anaconda3\\lib\\site-packages (from trio~=0.17->selenium) (2.4.0)\n",
      "Requirement already satisfied: cffi>=1.14 in c:\\users\\dell\\anaconda3\\lib\\site-packages (from trio~=0.17->selenium) (1.15.1)\n",
      "Requirement already satisfied: idna in c:\\users\\dell\\anaconda3\\lib\\site-packages (from trio~=0.17->selenium) (3.4)\n",
      "Requirement already satisfied: outcome in c:\\users\\dell\\anaconda3\\lib\\site-packages (from trio~=0.17->selenium) (1.3.0.post0)\n",
      "Requirement already satisfied: sniffio>=1.3.0 in c:\\users\\dell\\anaconda3\\lib\\site-packages (from trio~=0.17->selenium) (1.3.0)\n",
      "Requirement already satisfied: wsproto>=0.14 in c:\\users\\dell\\anaconda3\\lib\\site-packages (from trio-websocket~=0.9->selenium) (1.2.0)\n",
      "Requirement already satisfied: PySocks!=1.5.7,<2.0,>=1.5.6 in c:\\users\\dell\\anaconda3\\lib\\site-packages (from urllib3[socks]<3,>=1.26->selenium) (1.7.1)\n",
      "Requirement already satisfied: pycparser in c:\\users\\dell\\anaconda3\\lib\\site-packages (from cffi>=1.14->trio~=0.17->selenium) (2.21)\n",
      "Requirement already satisfied: h11<1,>=0.9.0 in c:\\users\\dell\\anaconda3\\lib\\site-packages (from wsproto>=0.14->trio-websocket~=0.9->selenium) (0.14.0)\n"
     ]
    }
   ],
   "source": [
    "#iinstalling selenium\n",
    "!pip install selenium"
   ]
  },
  {
   "cell_type": "code",
   "execution_count": 38,
   "id": "a1dd96d9",
   "metadata": {},
   "outputs": [],
   "source": [
    "#importing libraries\n",
    "import selenium\n",
    "import pandas as pd\n",
    "from selenium import  webdriver\n",
    "import warnings\n",
    "warnings.filterwarnings('ignore')\n",
    "from selenium.webdriver.common.by import By\n",
    "import time\n",
    "\n",
    "#lets connect with web driver\n",
    "driver = webdriver.Chrome()\n",
    "maximize = driver.maximize_window()\n",
    "\n",
    "#open browser\n",
    "driver.get(\"https://www.shine.com/\")\n",
    "time.sleep(3)\n",
    "\n",
    "\n"
   ]
  },
  {
   "cell_type": "code",
   "execution_count": 39,
   "id": "256ad7c9",
   "metadata": {},
   "outputs": [],
   "source": [
    "#click on the search buttone\n",
    "search=driver.find_element(By.XPATH,'//i[@class=\"iconH-zoom-white\"]')\n",
    "search.click()\n",
    "time.sleep(3)"
   ]
  },
  {
   "cell_type": "code",
   "execution_count": 40,
   "id": "e5d5574c",
   "metadata": {},
   "outputs": [],
   "source": [
    "# job_title=driver.find_element(By.XPATH,'//input[@class=\"input\"]')\n",
    "# job_title.click()\n",
    "# time.sleep(3)"
   ]
  },
  {
   "cell_type": "code",
   "execution_count": 41,
   "id": "16bd4fa3",
   "metadata": {},
   "outputs": [],
   "source": [
    "\n",
    " #search the “Data Analyst” and click search button\n",
    "designation = driver.find_element(By.CLASS_NAME,\"form-control\")\n",
    "designation.send_keys('Data Analyst')\n",
    "time.sleep(3)\n"
   ]
  },
  {
   "cell_type": "code",
   "execution_count": 42,
   "id": "fc555946",
   "metadata": {},
   "outputs": [],
   "source": [
    "#location\n",
    "location=driver.find_element(By.XPATH,\"/html/body/div/div[4]/div/div[2]/div[2]/div/form/div/div[1]/ul/li[2]/div/input\")\n",
    "location.send_keys('Banglore')\n",
    "time.sleep(3)\n"
   ]
  },
  {
   "cell_type": "code",
   "execution_count": 43,
   "id": "633d1166",
   "metadata": {},
   "outputs": [],
   "source": [
    "# click on search jobs\n",
    "search=driver.find_element(By.XPATH, '//div[@class=\"searchForm_btnWrap_advance__VYBHN\"]/button[1]')\n",
    "search.submit()\n"
   ]
  },
  {
   "cell_type": "code",
   "execution_count": 44,
   "id": "b2347217",
   "metadata": {},
   "outputs": [],
   "source": [
    "job_title=[]\n",
    "job_location=[]\n",
    "company_name=[]\n",
    "experience_required=[]\n",
    "\n",
    "title_tags=driver.find_elements(By.XPATH,'//h2[@itemprop=\"name\"]/a')\n",
    "for i in title_tags:\n",
    "    title=i.text\n",
    "    job_title.append(title)\n",
    "    \n",
    "location_tags=driver.find_elements(By.XPATH,'//div[@class=\" jobCard_jobCard_lists_item__YxRkV jobCard_locationIcon__zrWt2\"]')\n",
    "for i in location_tags:\n",
    "    location=i.text\n",
    "    job_location.append(location) \n",
    "    \n",
    "company_tags=driver.find_elements(By.XPATH,'//div[@class=\"jobCard_jobCard_cName__mYnow\"]')\n",
    "for i in company_tags:\n",
    "    company=i.text\n",
    "    company_name.append(company)    \n",
    "    \n",
    "experience_tags=driver.find_elements(By.XPATH,'//div[@class=\" jobCard_jobCard_lists_item__YxRkV jobCard_jobIcon__3FB1t\"]')\n",
    "for i in experience_tags:\n",
    "    experience=i.text\n",
    "    experience_required.append( experience)    \n",
    "    \n"
   ]
  },
  {
   "cell_type": "code",
   "execution_count": 45,
   "id": "29cadb28",
   "metadata": {},
   "outputs": [
    {
     "name": "stdout",
     "output_type": "stream",
     "text": [
      "20 20 20 20\n"
     ]
    }
   ],
   "source": [
    "# find lenght\n",
    "print(len(job_title),len(job_location),len(company_name),len(experience_required))  \n",
    "\n",
    "\n"
   ]
  },
  {
   "cell_type": "code",
   "execution_count": 46,
   "id": "b0372b28",
   "metadata": {},
   "outputs": [
    {
     "data": {
      "text/html": [
       "<div>\n",
       "<style scoped>\n",
       "    .dataframe tbody tr th:only-of-type {\n",
       "        vertical-align: middle;\n",
       "    }\n",
       "\n",
       "    .dataframe tbody tr th {\n",
       "        vertical-align: top;\n",
       "    }\n",
       "\n",
       "    .dataframe thead th {\n",
       "        text-align: right;\n",
       "    }\n",
       "</style>\n",
       "<table border=\"1\" class=\"dataframe\">\n",
       "  <thead>\n",
       "    <tr style=\"text-align: right;\">\n",
       "      <th></th>\n",
       "      <th>Job Title</th>\n",
       "      <th>Job Location</th>\n",
       "      <th>Company Name</th>\n",
       "      <th>Experience Required</th>\n",
       "    </tr>\n",
       "  </thead>\n",
       "  <tbody>\n",
       "    <tr>\n",
       "      <th>0</th>\n",
       "      <td>Lead Data Analyst</td>\n",
       "      <td>Bangalore</td>\n",
       "      <td>ara resources private limited</td>\n",
       "      <td>4 to 9 Yrs</td>\n",
       "    </tr>\n",
       "    <tr>\n",
       "      <th>1</th>\n",
       "      <td>Data Analyst</td>\n",
       "      <td>Bangalore\\n+3</td>\n",
       "      <td>diraa hr services hiring for mncs</td>\n",
       "      <td>0 to 1 Yr</td>\n",
       "    </tr>\n",
       "    <tr>\n",
       "      <th>2</th>\n",
       "      <td>Vacancy For Data Analyst</td>\n",
       "      <td>Canada\\n+14</td>\n",
       "      <td>yogita staffing solution</td>\n",
       "      <td>0 to 3 Yrs</td>\n",
       "    </tr>\n",
       "    <tr>\n",
       "      <th>3</th>\n",
       "      <td>Data Management</td>\n",
       "      <td>China\\n+18</td>\n",
       "      <td>future solution centre</td>\n",
       "      <td>15 to &gt;25 Yrs</td>\n",
       "    </tr>\n",
       "    <tr>\n",
       "      <th>4</th>\n",
       "      <td>Clinical Data Analyst</td>\n",
       "      <td>Gurugram\\n+6</td>\n",
       "      <td>techno endura</td>\n",
       "      <td>0 to 1 Yr</td>\n",
       "    </tr>\n",
       "    <tr>\n",
       "      <th>5</th>\n",
       "      <td>Data Modeler data</td>\n",
       "      <td>Bangalore</td>\n",
       "      <td>boyen haddin consulting and technol...</td>\n",
       "      <td>3 to 6 Yrs</td>\n",
       "    </tr>\n",
       "    <tr>\n",
       "      <th>6</th>\n",
       "      <td>Full time Opportunity-Networking Advisor-Cisco...</td>\n",
       "      <td>Bangalore\\n+5</td>\n",
       "      <td>ntt data information processing ser...</td>\n",
       "      <td>10 to 20 Yrs</td>\n",
       "    </tr>\n",
       "    <tr>\n",
       "      <th>7</th>\n",
       "      <td>Data Modeller</td>\n",
       "      <td>Bangalore</td>\n",
       "      <td>boyen haddin consulting and technol...</td>\n",
       "      <td>3 to 6 Yrs</td>\n",
       "    </tr>\n",
       "    <tr>\n",
       "      <th>8</th>\n",
       "      <td>Data Modeler Bangalore</td>\n",
       "      <td>Bangalore</td>\n",
       "      <td>boyen haddin consulting and technol...</td>\n",
       "      <td>3 to 6 Yrs</td>\n",
       "    </tr>\n",
       "    <tr>\n",
       "      <th>9</th>\n",
       "      <td>Data Modeler</td>\n",
       "      <td>Bangalore</td>\n",
       "      <td>boyen haddin consulting and technol...</td>\n",
       "      <td>3 to 6 Yrs</td>\n",
       "    </tr>\n",
       "  </tbody>\n",
       "</table>\n",
       "</div>"
      ],
      "text/plain": [
       "                                           Job Title   Job Location  \\\n",
       "0                                  Lead Data Analyst      Bangalore   \n",
       "1                                       Data Analyst  Bangalore\\n+3   \n",
       "2                           Vacancy For Data Analyst    Canada\\n+14   \n",
       "3                                    Data Management     China\\n+18   \n",
       "4                              Clinical Data Analyst   Gurugram\\n+6   \n",
       "5                                  Data Modeler data      Bangalore   \n",
       "6  Full time Opportunity-Networking Advisor-Cisco...  Bangalore\\n+5   \n",
       "7                                      Data Modeller      Bangalore   \n",
       "8                             Data Modeler Bangalore      Bangalore   \n",
       "9                                       Data Modeler      Bangalore   \n",
       "\n",
       "                             Company Name Experience Required  \n",
       "0           ara resources private limited          4 to 9 Yrs  \n",
       "1       diraa hr services hiring for mncs           0 to 1 Yr  \n",
       "2                yogita staffing solution          0 to 3 Yrs  \n",
       "3                  future solution centre       15 to >25 Yrs  \n",
       "4                           techno endura           0 to 1 Yr  \n",
       "5  boyen haddin consulting and technol...          3 to 6 Yrs  \n",
       "6  ntt data information processing ser...        10 to 20 Yrs  \n",
       "7  boyen haddin consulting and technol...          3 to 6 Yrs  \n",
       "8  boyen haddin consulting and technol...          3 to 6 Yrs  \n",
       "9  boyen haddin consulting and technol...          3 to 6 Yrs  "
      ]
     },
     "execution_count": 46,
     "metadata": {},
     "output_type": "execute_result"
    }
   ],
   "source": [
    "# creatind data frame\n",
    "df = pd.DataFrame({\n",
    "    'Job Title': job_title,\n",
    "    'Job Location': job_location,\n",
    "    'Company Name': company_name,\n",
    "    'Experience Required': experience_required\n",
    "})\n",
    "df\n",
    "df[0:10]\n"
   ]
  },
  {
   "cell_type": "markdown",
   "id": "46c0ebe2",
   "metadata": {},
   "source": [
    "Q2:Write a python program to scrape data for “Data Scientist” Job position in“Bangalore” location. You\n",
    "have to scrape the job-title, job-location, company_name. You have to scrape first 10 jobs data.\n",
    "This task will be done in following steps:\n",
    "1. First get the webpage https://www.shine.com/\n",
    "2. Enter “Data Scientist” in “Job title, Skills” field and enter “Bangalore” in “enter thelocation” field.\n",
    "3. Then click the search button.\n",
    "4. Then scrape the data for the first 10 jobs results you get.\n",
    "5. Finally create a dataframe of the scraped data.\n",
    "Note: All of the above steps have to be done in code. No step is to be done manually."
   ]
  },
  {
   "cell_type": "code",
   "execution_count": 50,
   "id": "52479d15",
   "metadata": {},
   "outputs": [],
   "source": [
    "#importing libraries\n",
    "import selenium\n",
    "import pandas as pd\n",
    "from selenium import  webdriver\n",
    "import warnings\n",
    "warnings.filterwarnings('ignore')\n",
    "from selenium.webdriver.common.by import By\n",
    "import time\n",
    "\n",
    "#connect with driver\n",
    "driver = webdriver.Chrome()\n",
    "maximize = driver.maximize_window()\n",
    "\n",
    "#open browser\n",
    "driver.get(\"https://www.shine.com/\")\n"
   ]
  },
  {
   "cell_type": "code",
   "execution_count": 51,
   "id": "45d64a75",
   "metadata": {},
   "outputs": [],
   "source": [
    "#first click\n",
    "job_title=driver.find_element(By.XPATH,'//input[@class=\"input\"]')\n",
    "job_title.click()"
   ]
  },
  {
   "cell_type": "code",
   "execution_count": 52,
   "id": "cb4e453f",
   "metadata": {},
   "outputs": [],
   "source": [
    "#search designation\n",
    "designation = driver.find_element(By.CLASS_NAME,\"form-control  \")\n",
    "designation.send_keys('Data Scientist')\n"
   ]
  },
  {
   "cell_type": "code",
   "execution_count": 53,
   "id": "bac0448e",
   "metadata": {},
   "outputs": [],
   "source": [
    "#search location\n",
    "location=driver.find_element(By.XPATH,\"/html/body/div/div[4]/div/div[2]/div[2]/div/form/div/div[1]/ul/li[2]/div/input\")\n",
    "location.send_keys('Banglore')\n",
    "time.sleep(3)"
   ]
  },
  {
   "cell_type": "code",
   "execution_count": 54,
   "id": "416cd3f5",
   "metadata": {},
   "outputs": [],
   "source": [
    "#click on search jobs\n",
    "#Search=driver.find_element(By.XPATH, '//button[@class=\" btn btn-secondary undefined\"]')\n",
    "search_jobs=driver.find_element(By.XPATH,'//div[@class=\"searchForm_btnWrap__Cb75F\"]/div/button')\n",
    "search_jobs.submit()"
   ]
  },
  {
   "cell_type": "code",
   "execution_count": 55,
   "id": "67582b85",
   "metadata": {},
   "outputs": [],
   "source": [
    "job_title=[]\n",
    "job_location=[]\n",
    "company_name=[]\n",
    "\n",
    "\n",
    "title_tags=driver.find_elements(By.XPATH,'//h2[@itemprop=\"name\"]/a')\n",
    "for i in title_tags:\n",
    "    title=i.text\n",
    "    job_title.append(title)\n",
    "    \n",
    "location_tags=driver.find_elements(By.XPATH,'//div[@class=\" jobCard_jobCard_lists_item__YxRkV jobCard_locationIcon__zrWt2\"]')\n",
    "for i in location_tags:\n",
    "    location=i.text\n",
    "    job_location.append(location) \n",
    "    \n",
    "company_tags=driver.find_elements(By.XPATH,'//div[@class=\"jobCard_jobCard_cName__mYnow\"]')\n",
    "for i in company_tags:\n",
    "    company=i.text\n",
    "    company_name.append(company)  "
   ]
  },
  {
   "cell_type": "code",
   "execution_count": 56,
   "id": "adaf089e",
   "metadata": {},
   "outputs": [
    {
     "name": "stdout",
     "output_type": "stream",
     "text": [
      "20 20 20\n"
     ]
    }
   ],
   "source": [
    "print(len(job_title),len(job_location),len(company_name))"
   ]
  },
  {
   "cell_type": "code",
   "execution_count": 57,
   "id": "20776a8e",
   "metadata": {},
   "outputs": [
    {
     "data": {
      "text/html": [
       "<div>\n",
       "<style scoped>\n",
       "    .dataframe tbody tr th:only-of-type {\n",
       "        vertical-align: middle;\n",
       "    }\n",
       "\n",
       "    .dataframe tbody tr th {\n",
       "        vertical-align: top;\n",
       "    }\n",
       "\n",
       "    .dataframe thead th {\n",
       "        text-align: right;\n",
       "    }\n",
       "</style>\n",
       "<table border=\"1\" class=\"dataframe\">\n",
       "  <thead>\n",
       "    <tr style=\"text-align: right;\">\n",
       "      <th></th>\n",
       "      <th>Job Title</th>\n",
       "      <th>Job Location</th>\n",
       "      <th>Company Name</th>\n",
       "    </tr>\n",
       "  </thead>\n",
       "  <tbody>\n",
       "    <tr>\n",
       "      <th>0</th>\n",
       "      <td>Data Scientist Recruitment</td>\n",
       "      <td>Canada\\n+15</td>\n",
       "      <td>renuka interprises</td>\n",
       "    </tr>\n",
       "    <tr>\n",
       "      <th>1</th>\n",
       "      <td>Data Scientist Recruitment</td>\n",
       "      <td>Canada\\n+15</td>\n",
       "      <td>renuka interprises</td>\n",
       "    </tr>\n",
       "    <tr>\n",
       "      <th>2</th>\n",
       "      <td>Data Scientist</td>\n",
       "      <td>Gurugram\\n+4</td>\n",
       "      <td>acme services private limited</td>\n",
       "    </tr>\n",
       "    <tr>\n",
       "      <th>3</th>\n",
       "      <td>Data Scientist</td>\n",
       "      <td>Bangalore</td>\n",
       "      <td>ltimindtree limited</td>\n",
       "    </tr>\n",
       "    <tr>\n",
       "      <th>4</th>\n",
       "      <td>Lead Data Scientist/ Principal Data Scientist</td>\n",
       "      <td>Bangalore\\n+1</td>\n",
       "      <td>fractal</td>\n",
       "    </tr>\n",
       "    <tr>\n",
       "      <th>5</th>\n",
       "      <td>Senior Data Scientist</td>\n",
       "      <td>Bangalore\\n+1</td>\n",
       "      <td>neostats</td>\n",
       "    </tr>\n",
       "    <tr>\n",
       "      <th>6</th>\n",
       "      <td>Vacancy For Data Scientist Fresher and Experience</td>\n",
       "      <td>Canada\\n+14</td>\n",
       "      <td>yogita staffing solution</td>\n",
       "    </tr>\n",
       "    <tr>\n",
       "      <th>7</th>\n",
       "      <td>Lead Data Scientist</td>\n",
       "      <td>Bangalore\\n+1</td>\n",
       "      <td>aereo</td>\n",
       "    </tr>\n",
       "    <tr>\n",
       "      <th>8</th>\n",
       "      <td>Data Scientist</td>\n",
       "      <td>Gurugram\\n+7</td>\n",
       "      <td>people staffing solutions</td>\n",
       "    </tr>\n",
       "    <tr>\n",
       "      <th>9</th>\n",
       "      <td>Data Scientist Urgent Vacancy</td>\n",
       "      <td>Canada\\n+14</td>\n",
       "      <td>yogita staffing solution</td>\n",
       "    </tr>\n",
       "  </tbody>\n",
       "</table>\n",
       "</div>"
      ],
      "text/plain": [
       "                                           Job Title   Job Location  \\\n",
       "0                         Data Scientist Recruitment    Canada\\n+15   \n",
       "1                         Data Scientist Recruitment    Canada\\n+15   \n",
       "2                                     Data Scientist   Gurugram\\n+4   \n",
       "3                                     Data Scientist      Bangalore   \n",
       "4      Lead Data Scientist/ Principal Data Scientist  Bangalore\\n+1   \n",
       "5                              Senior Data Scientist  Bangalore\\n+1   \n",
       "6  Vacancy For Data Scientist Fresher and Experience    Canada\\n+14   \n",
       "7                                Lead Data Scientist  Bangalore\\n+1   \n",
       "8                                     Data Scientist   Gurugram\\n+7   \n",
       "9                      Data Scientist Urgent Vacancy    Canada\\n+14   \n",
       "\n",
       "                    Company Name  \n",
       "0             renuka interprises  \n",
       "1             renuka interprises  \n",
       "2  acme services private limited  \n",
       "3            ltimindtree limited  \n",
       "4                        fractal  \n",
       "5                       neostats  \n",
       "6       yogita staffing solution  \n",
       "7                          aereo  \n",
       "8      people staffing solutions  \n",
       "9       yogita staffing solution  "
      ]
     },
     "execution_count": 57,
     "metadata": {},
     "output_type": "execute_result"
    }
   ],
   "source": [
    "# creating dataframe\n",
    "df = pd.DataFrame({\n",
    "    'Job Title': job_title,\n",
    "    'Job Location': job_location,\n",
    "    'Company Name': company_name\n",
    "    \n",
    "})\n",
    "df[0:10]"
   ]
  },
  {
   "cell_type": "markdown",
   "id": "d539b946",
   "metadata": {},
   "source": [
    "Q3: In this question you have to scrape data using the filters available on the webpage\n",
    " You have to use the location and salary filter.\n",
    "You have to scrape data for “Data Scientist” designation for first 10 job results.\n",
    "You have to scrape the job-title, job-location, company name, experience required.\n",
    "The location filter to be used is “Delhi/NCR”. The salary filter to be used is “3-6” lakhs\n",
    "The task will be done as shown in the below steps:\n",
    "1. first get the web page https://www.shine.com/\n",
    "2. Enter “Data Scientist” in “Skill, Designations, and Companies” field.\n",
    "3. Then click the search button.\n",
    "4. Then apply the location filter and salary filter by checking the respective boxes\n",
    "5. Then scrape the data for the first 10 jobs results you get.\n",
    "6. Finally create a dataframe of the scrapeddata.\n",
    "Note: All of the above steps have to be done in code. No step is to be done manually"
   ]
  },
  {
   "cell_type": "code",
   "execution_count": null,
   "id": "703a07dc",
   "metadata": {},
   "outputs": [],
   "source": [
    "import selenium\n",
    "import pandas as pd\n",
    "from selenium import  webdriver\n",
    "import warnings\n",
    "warnings.filterwarnings('ignore')\n",
    "from selenium.webdriver.common.by import By\n",
    "import time\n",
    "\n",
    "driver = webdriver.Chrome()\n",
    "maximize = driver.maximize_window()\n",
    "\n",
    "driver.get(\"https://www.shine.com/\")\n",
    "\n"
   ]
  },
  {
   "cell_type": "code",
   "execution_count": null,
   "id": "20dac77b",
   "metadata": {},
   "outputs": [],
   "source": [
    "job_title=driver.find_element(By.XPATH,'//input[@class=\"input\"]')\n",
    "job_title.click()"
   ]
  },
  {
   "cell_type": "code",
   "execution_count": null,
   "id": "b203fdf5",
   "metadata": {},
   "outputs": [],
   "source": [
    "designation = driver.find_element(By.CLASS_NAME,\"form-control  \")\n",
    "designation.send_keys('Data Scientist')\n"
   ]
  },
  {
   "cell_type": "code",
   "execution_count": null,
   "id": "9eee2389",
   "metadata": {},
   "outputs": [],
   "source": [
    "search_jobs=driver.find_element(By.XPATH,'//div[@class=\"searchForm_btnWrap__Cb75F\"]/div/button')\n",
    "search_jobs.submit()"
   ]
  },
  {
   "cell_type": "code",
   "execution_count": null,
   "id": "21b3853f",
   "metadata": {},
   "outputs": [],
   "source": [
    "filterr_by_location=driver.find_element(By.XPATH,'//li[@class=\"filter_filter_lists_items__wlFfo\"]/button[1]')\n",
    "filterr_by_location.click()\n"
   ]
  },
  {
   "cell_type": "code",
   "execution_count": null,
   "id": "f8cd1e80",
   "metadata": {},
   "outputs": [],
   "source": [
    "location=driver.find_element(By.XPATH,\"//input[@class=\"styled-checkbox\"]\")\n",
    "location.click()"
   ]
  },
  {
   "cell_type": "code",
   "execution_count": null,
   "id": "bf5e2499",
   "metadata": {},
   "outputs": [],
   "source": [
    "filterr_by_salary=driver.find_element(By.XPATH,\"//li[@class=\"filter_filter_lists_items__wlFfo\"]/button[3]\")\n",
    "filterr_by_salary.click()\n"
   ]
  },
  {
   "cell_type": "code",
   "execution_count": null,
   "id": "30510d76",
   "metadata": {},
   "outputs": [],
   "source": [
    "salary=driver.find_element(By.XPATH,\"//input[@class=\"styled-checkbox\"]\")\n",
    "salary.click()\n"
   ]
  },
  {
   "cell_type": "code",
   "execution_count": null,
   "id": "e8715794",
   "metadata": {},
   "outputs": [],
   "source": [
    "show_result=driver.find_element(By.XPATH,\"//button[@class=\"btn btn-secondary\"]\")\n",
    "show_result.click()"
   ]
  },
  {
   "cell_type": "code",
   "execution_count": null,
   "id": "9a589d30",
   "metadata": {},
   "outputs": [],
   "source": [
    "job_title=[]\n",
    "job_location=[]\n",
    "company_name=[]\n",
    "experience_required=[]\n",
    "\n"
   ]
  },
  {
   "cell_type": "code",
   "execution_count": null,
   "id": "37660b82",
   "metadata": {},
   "outputs": [],
   "source": [
    "\n",
    "title_tags=driver.find_elements(By.XPATH,'//h2[@itemprop=\"name\"]/a')\n",
    "for i in title_tags:\n",
    "    title=i.text\n",
    "    job_title.append(title)\n",
    "    \n",
    "location_tags=driver.find_elements(By.XPATH,'//div[@class=\" jobCard_jobCard_lists_item__YxRkV jobCard_locationIcon__zrWt2\"]')\n",
    "for i in location_tags:\n",
    "    location=i.text\n",
    "    job_location.append(location) \n",
    "    \n",
    "company_tags=driver.find_elements(By.XPATH,'//div[@class=\"jobCard_jobCard_cName__mYnow\"]')\n",
    "for i in company_tags:\n",
    "    company=i.text\n",
    "    company_name.append(company) \n",
    "    \n",
    "experience_tag=driver.find_elements(By.XPATH,'//div[@class=\" jobCard_jobCard_lists_item__YxRkV jobCard_jobIcon__3FB1t\"]')\n",
    "for i in experience_tags:\n",
    "    experience=i.text\n",
    "    experience_tag.append(experience)     "
   ]
  },
  {
   "cell_type": "code",
   "execution_count": null,
   "id": "218c23a3",
   "metadata": {},
   "outputs": [],
   "source": [
    "print(len(job_title),len(job_location),len(company_name),len(experience_required))"
   ]
  },
  {
   "cell_type": "code",
   "execution_count": null,
   "id": "a22949ab",
   "metadata": {},
   "outputs": [],
   "source": [
    "df = pd.DataFrame({\n",
    "    'Job Title': job_title,\n",
    "    'Job Location': job_location,\n",
    "    'Company Name': company_name\n",
    "    'Experience Required': experience_required\n",
    "})\n",
    "df\n"
   ]
  },
  {
   "cell_type": "markdown",
   "id": "7cb77599",
   "metadata": {},
   "source": [
    "Q4: Scrape data of first 100 sunglasses listings on flipkart.com. You have to scrape four attributes:\n",
    "6. Brand\n",
    "7. ProductDescription\n",
    "8. Price\n",
    "The attributes which you have to scrape is ticked marked in the below image.\n",
    "To scrape the data you have to go through following steps:\n",
    "1. Go to Flipkart webpage by url :https://www.flipkart.com/\n",
    "2. Enter “sunglasses” in the search fieldwhere “search for products, brands and more” is written and\n",
    "click the search icon\n",
    "3. After that you will reach to the page having a lot of sunglasses. From this page you can scrap the\n",
    "required data as usual.\n",
    "4. After scraping data from the first page, go to the “Next” Button at the bottom other page , then\n",
    "click on it.\n",
    "5. Now scrape data from this page as usual\n",
    "6. Repeat this until you get data for 100sunglasses.\n",
    "Note: That all of the above steps have to be done by coding only and not manually.\n"
   ]
  },
  {
   "cell_type": "code",
   "execution_count": 58,
   "id": "4dabff33",
   "metadata": {},
   "outputs": [
    {
     "name": "stdout",
     "output_type": "stream",
     "text": [
      "40 40 40\n"
     ]
    }
   ],
   "source": [
    "import selenium\n",
    "import pandas as pd\n",
    "from selenium import webdriver\n",
    "import warnings\n",
    "warnings.filterwarnings('ignore')\n",
    "import time\n",
    "from selenium.webdriver.common.by import By\n",
    "\n",
    "driver = webdriver.Chrome()\n",
    "maximize = driver.maximize_window()\n",
    "\n",
    "driver.get('https://www.flipkart.com/')\n",
    "time.sleep(3)\n",
    "\n",
    "item = driver.find_element(By.CLASS_NAME, \"Pke_EE\")\n",
    "item.send_keys('sunglasses')\n",
    "\n",
    "search=driver.find_element(By.CLASS_NAME,\"_2iLD__\")\n",
    "search.click()\n",
    "\n",
    "\n",
    "Brand_name= []\n",
    "Product_Description = []\n",
    "Price= []\n",
    "\n",
    "Brand_tags=driver.find_elements(By.XPATH,'//div[@class=\"_2WkVRV\"]')\n",
    "for i in Brand_tags:\n",
    "    Brand=i.text\n",
    "    Brand_name.append(Brand)\n",
    "    \n",
    "product_tags=driver.find_elements(By.XPATH,'//div[@class=\"_2B099V\"]/a[1]')\n",
    "for i in product_tags:\n",
    "    product=i.text\n",
    "    Product_Description.append( product)    \n",
    "    \n",
    "price_tags=driver.find_elements(By.XPATH,'//div[@class=\"_30jeq3\"]')\n",
    "for i in price_tags:\n",
    "    price=i.text\n",
    "    Price.append(price)    \n",
    "     \n",
    "print(len(Brand_name),len(Price),len(Product_Description))    \n"
   ]
  },
  {
   "cell_type": "code",
   "execution_count": 59,
   "id": "b7c6747e",
   "metadata": {},
   "outputs": [],
   "source": [
    "Brand_name= []\n",
    "Product_Description = []\n",
    "Price= []\n",
    "\n",
    "\n",
    "start=0\n",
    "end=3\n",
    "for page in range(start,end):\n",
    "    Brand_tags=driver.find_elements(By.XPATH,'//div[@class=\"_2WkVRV\"]')\n",
    "    for i in Brand_tags:\n",
    "        Brand=i.text\n",
    "        Brand_name.append(Brand)\n",
    "    \n",
    "    product_tags=driver.find_elements(By.XPATH,'//div[@class=\"_2B099V\"]/a[1]')\n",
    "    for i in product_tags:\n",
    "        product=i.text\n",
    "        Product_Description.append( product)    \n",
    "    \n",
    "    price_tags=driver.find_elements(By.XPATH,'//div[@class=\"_30jeq3\"]')\n",
    "    for i in price_tags:\n",
    "        price=i.text\n",
    "        Price.append(price)   \n",
    "\n",
    "next_button=driver.find_element(By.XPATH,'//a[@class=\"_1LKTO3\"]')   \n",
    "next_button.click()\n",
    "    "
   ]
  },
  {
   "cell_type": "code",
   "execution_count": 60,
   "id": "00936c19",
   "metadata": {},
   "outputs": [
    {
     "name": "stdout",
     "output_type": "stream",
     "text": [
      "120 120 120\n"
     ]
    }
   ],
   "source": [
    "print(len(Brand_name),len(Price),len(Product_Description)) "
   ]
  },
  {
   "cell_type": "code",
   "execution_count": 61,
   "id": "b61ab120",
   "metadata": {},
   "outputs": [
    {
     "data": {
      "text/html": [
       "<div>\n",
       "<style scoped>\n",
       "    .dataframe tbody tr th:only-of-type {\n",
       "        vertical-align: middle;\n",
       "    }\n",
       "\n",
       "    .dataframe tbody tr th {\n",
       "        vertical-align: top;\n",
       "    }\n",
       "\n",
       "    .dataframe thead th {\n",
       "        text-align: right;\n",
       "    }\n",
       "</style>\n",
       "<table border=\"1\" class=\"dataframe\">\n",
       "  <thead>\n",
       "    <tr style=\"text-align: right;\">\n",
       "      <th></th>\n",
       "      <th>Brand</th>\n",
       "      <th>Price</th>\n",
       "      <th>Product Description</th>\n",
       "    </tr>\n",
       "  </thead>\n",
       "  <tbody>\n",
       "    <tr>\n",
       "      <th>0</th>\n",
       "      <td>Nicole Miller</td>\n",
       "      <td>₹2,499</td>\n",
       "      <td>Polarized Butterfly Sunglasses (64)</td>\n",
       "    </tr>\n",
       "    <tr>\n",
       "      <th>1</th>\n",
       "      <td>Eyewearlabs</td>\n",
       "      <td>₹2,199</td>\n",
       "      <td>Polarized, UV Protection Rectangular Sunglasse...</td>\n",
       "    </tr>\n",
       "    <tr>\n",
       "      <th>2</th>\n",
       "      <td>SRPM</td>\n",
       "      <td>₹169</td>\n",
       "      <td>UV Protection Wayfarer Sunglasses (50)</td>\n",
       "    </tr>\n",
       "    <tr>\n",
       "      <th>3</th>\n",
       "      <td>ROADWAY</td>\n",
       "      <td>₹129</td>\n",
       "      <td>UV Protection Wayfarer, Sports, Spectacle , Re...</td>\n",
       "    </tr>\n",
       "    <tr>\n",
       "      <th>4</th>\n",
       "      <td>ROADWAY</td>\n",
       "      <td>₹129</td>\n",
       "      <td>UV Protection Retro Square, Wayfarer, Sports S...</td>\n",
       "    </tr>\n",
       "    <tr>\n",
       "      <th>...</th>\n",
       "      <td>...</td>\n",
       "      <td>...</td>\n",
       "      <td>...</td>\n",
       "    </tr>\n",
       "    <tr>\n",
       "      <th>95</th>\n",
       "      <td>Fastrack</td>\n",
       "      <td>₹549</td>\n",
       "      <td>Gradient, UV Protection Wayfarer Sunglasses (F...</td>\n",
       "    </tr>\n",
       "    <tr>\n",
       "      <th>96</th>\n",
       "      <td>Eyenaks</td>\n",
       "      <td>₹346</td>\n",
       "      <td>UV Protection Rectangular Sunglasses (Free Size)</td>\n",
       "    </tr>\n",
       "    <tr>\n",
       "      <th>97</th>\n",
       "      <td>ROYAL SON</td>\n",
       "      <td>₹636</td>\n",
       "      <td>Polarized, UV Protection Aviator Sunglasses (58)</td>\n",
       "    </tr>\n",
       "    <tr>\n",
       "      <th>98</th>\n",
       "      <td>IceDive</td>\n",
       "      <td>₹130</td>\n",
       "      <td>Night Vision, UV Protection Wayfarer Sunglasse...</td>\n",
       "    </tr>\n",
       "    <tr>\n",
       "      <th>99</th>\n",
       "      <td>Fastrack</td>\n",
       "      <td>₹539</td>\n",
       "      <td>UV Protection Rectangular Sunglasses (Free Size)</td>\n",
       "    </tr>\n",
       "  </tbody>\n",
       "</table>\n",
       "<p>100 rows × 3 columns</p>\n",
       "</div>"
      ],
      "text/plain": [
       "            Brand   Price                                Product Description\n",
       "0   Nicole Miller  ₹2,499                Polarized Butterfly Sunglasses (64)\n",
       "1     Eyewearlabs  ₹2,199  Polarized, UV Protection Rectangular Sunglasse...\n",
       "2            SRPM    ₹169             UV Protection Wayfarer Sunglasses (50)\n",
       "3         ROADWAY    ₹129  UV Protection Wayfarer, Sports, Spectacle , Re...\n",
       "4         ROADWAY    ₹129  UV Protection Retro Square, Wayfarer, Sports S...\n",
       "..            ...     ...                                                ...\n",
       "95       Fastrack    ₹549  Gradient, UV Protection Wayfarer Sunglasses (F...\n",
       "96        Eyenaks    ₹346   UV Protection Rectangular Sunglasses (Free Size)\n",
       "97      ROYAL SON    ₹636   Polarized, UV Protection Aviator Sunglasses (58)\n",
       "98        IceDive    ₹130  Night Vision, UV Protection Wayfarer Sunglasse...\n",
       "99       Fastrack    ₹539   UV Protection Rectangular Sunglasses (Free Size)\n",
       "\n",
       "[100 rows x 3 columns]"
      ]
     },
     "execution_count": 61,
     "metadata": {},
     "output_type": "execute_result"
    }
   ],
   "source": [
    "df=pd.DataFrame({'Brand':Brand_name,'Price':Price,'Product Description':Product_Description})\n",
    "df[0:100]"
   ]
  },
  {
   "cell_type": "markdown",
   "id": "511b7279",
   "metadata": {},
   "source": [
    "Q5: Scrape 100 reviews data from flipkart.com for iphone11 phone. You have to go the link:\n",
    "https://www.flipkart.com/apple-iphone-11-black-64-gb/productreviews/itm4e5041ba101fd?pid=MOBFWQ6BXGJCEYNY&lid=LSTMOBFWQ6BXGJCEYNYZXSHRJ&market\n",
    "place=FLIPKART\n",
    "As shown in the above page you have to scrape the tick marked attributes. These are:\n",
    "1. Rating\n",
    "2. Review summary\n",
    "3. Full review\n",
    "4. You have to scrape this data for first 100reviews.\n",
    "Note: All the steps required during scraping should be done through code only and not manually"
   ]
  },
  {
   "cell_type": "code",
   "execution_count": 62,
   "id": "07364d0e",
   "metadata": {},
   "outputs": [],
   "source": [
    "import selenium\n",
    "import pandas as pd\n",
    "from selenium import  webdriver\n",
    "import warnings\n",
    "warnings.filterwarnings('ignore')\n",
    "from selenium.webdriver.common.by import By\n",
    "import time\n",
    "\n",
    "#lets connect with web driver\n",
    "\n",
    "driver = webdriver.Chrome()\n",
    "maximize = driver.maximize_window()\n",
    "#onpening the flipkart website on automated chrome window\n",
    "driver.get('https://www.flipkart.com/')\n",
    "time.sleep(3)"
   ]
  },
  {
   "cell_type": "code",
   "execution_count": 63,
   "id": "602822a9",
   "metadata": {},
   "outputs": [],
   "source": [
    "#find item\n",
    "item = driver.find_element(By.CLASS_NAME, \"Pke_EE\")\n",
    "item.send_keys('iphone11 ')\n",
    "#click on search \n",
    "search=driver.find_element(By.CLASS_NAME,\"_2iLD__\")\n",
    "search.click()\n"
   ]
  },
  {
   "cell_type": "code",
   "execution_count": 64,
   "id": "da367407",
   "metadata": {},
   "outputs": [],
   "source": [
    "Rating = []\n",
    "Review_summary = []\n",
    "Full_review = []\n"
   ]
  },
  {
   "cell_type": "code",
   "execution_count": 65,
   "id": "2c334937",
   "metadata": {},
   "outputs": [],
   "source": [
    "# for i in range(3):\n",
    "    \n",
    "#     rating = driver.find_elements(By.XPATH,'//div[@class=\"_3LWZlK\"]')\n",
    "# # rating = driver.find_elements(By.XPATH,'//div[@class=\"_3LWZlK\"]/img')\n",
    "#     review = driver.find_elements(By.XPATH,'//span[@class=\"_2_R_DZ\"]/span/span[1]')\n",
    "#     full_review = driver.find_elements(By.XPATH,'//span[@class=\"_2_R_DZ\"]/span/span[3]')\n",
    "\n",
    "\n",
    "#     for i in  rating:\n",
    "#         Rating.append(i.text)\n",
    "#     for i in  review:\n",
    "#         Review_summary.append(i.text)\n",
    "#     for i in  full_review:\n",
    "#         Full_review.append(i.text)\n",
    "    \n",
    "# time.sleep(3)"
   ]
  },
  {
   "cell_type": "code",
   "execution_count": 66,
   "id": "b619038d",
   "metadata": {},
   "outputs": [],
   "source": [
    "start=0\n",
    "end=5\n",
    "for page in range(start,end):\n",
    "    rating_tag=driver.find_elements(By.XPATH,'//div[@class=\"gUuXy-\"]/span/div')\n",
    "    for i in rating_tag:\n",
    "        rating=i.text\n",
    "        Rating.append(rating)\n",
    "    \n",
    "    Review_tags=driver.find_elements(By.XPATH,'//div[@class=\"gUuXy-\"]/span[2]/span/span[3]')\n",
    "    for i in Review_tags:\n",
    "        review=i.text\n",
    "        Review_summary.append(review)    \n",
    "    \n",
    "    Full_review_tags=driver.find_elements(By.XPATH,'//div[@class=\"gUuXy-\"]/span[2]')\n",
    "    for i in Full_review_tags:\n",
    "        Full_rev=i.text\n",
    "        Full_review.append(Full_rev)   \n",
    "\n",
    "next_button=driver.find_element(By.XPATH,'//a[@class=\"_1LKTO3\"]')   \n",
    "next_button.click()\n",
    "    "
   ]
  },
  {
   "cell_type": "code",
   "execution_count": 67,
   "id": "8fb93747",
   "metadata": {},
   "outputs": [
    {
     "name": "stdout",
     "output_type": "stream",
     "text": [
      "120 120 120\n"
     ]
    }
   ],
   "source": [
    "print(len(Rating ),len(Review_summary),len(Full_review ))  "
   ]
  },
  {
   "cell_type": "code",
   "execution_count": 68,
   "id": "b9c0c783",
   "metadata": {},
   "outputs": [
    {
     "data": {
      "text/html": [
       "<div>\n",
       "<style scoped>\n",
       "    .dataframe tbody tr th:only-of-type {\n",
       "        vertical-align: middle;\n",
       "    }\n",
       "\n",
       "    .dataframe tbody tr th {\n",
       "        vertical-align: top;\n",
       "    }\n",
       "\n",
       "    .dataframe thead th {\n",
       "        text-align: right;\n",
       "    }\n",
       "</style>\n",
       "<table border=\"1\" class=\"dataframe\">\n",
       "  <thead>\n",
       "    <tr style=\"text-align: right;\">\n",
       "      <th></th>\n",
       "      <th>Rating</th>\n",
       "      <th>Review summary</th>\n",
       "      <th>Full review</th>\n",
       "    </tr>\n",
       "  </thead>\n",
       "  <tbody>\n",
       "    <tr>\n",
       "      <th>0</th>\n",
       "      <td>4.6</td>\n",
       "      <td>11,502 Reviews</td>\n",
       "      <td>2,04,559 Ratings &amp; 11,502 Reviews</td>\n",
       "    </tr>\n",
       "    <tr>\n",
       "      <th>1</th>\n",
       "      <td>4.6</td>\n",
       "      <td>11,502 Reviews</td>\n",
       "      <td>2,04,559 Ratings &amp; 11,502 Reviews</td>\n",
       "    </tr>\n",
       "    <tr>\n",
       "      <th>2</th>\n",
       "      <td>4.7</td>\n",
       "      <td>99 Reviews</td>\n",
       "      <td>1,102 Ratings &amp; 99 Reviews</td>\n",
       "    </tr>\n",
       "    <tr>\n",
       "      <th>3</th>\n",
       "      <td>4.6</td>\n",
       "      <td>11,502 Reviews</td>\n",
       "      <td>2,04,559 Ratings &amp; 11,502 Reviews</td>\n",
       "    </tr>\n",
       "    <tr>\n",
       "      <th>4</th>\n",
       "      <td>4.6</td>\n",
       "      <td>11,502 Reviews</td>\n",
       "      <td>2,04,559 Ratings &amp; 11,502 Reviews</td>\n",
       "    </tr>\n",
       "    <tr>\n",
       "      <th>...</th>\n",
       "      <td>...</td>\n",
       "      <td>...</td>\n",
       "      <td>...</td>\n",
       "    </tr>\n",
       "    <tr>\n",
       "      <th>95</th>\n",
       "      <td>4.7</td>\n",
       "      <td>99 Reviews</td>\n",
       "      <td>1,102 Ratings &amp; 99 Reviews</td>\n",
       "    </tr>\n",
       "    <tr>\n",
       "      <th>96</th>\n",
       "      <td>4.6</td>\n",
       "      <td>11,502 Reviews</td>\n",
       "      <td>2,04,559 Ratings &amp; 11,502 Reviews</td>\n",
       "    </tr>\n",
       "    <tr>\n",
       "      <th>97</th>\n",
       "      <td>4.6</td>\n",
       "      <td>11,502 Reviews</td>\n",
       "      <td>2,04,559 Ratings &amp; 11,502 Reviews</td>\n",
       "    </tr>\n",
       "    <tr>\n",
       "      <th>98</th>\n",
       "      <td>4.7</td>\n",
       "      <td>99 Reviews</td>\n",
       "      <td>1,102 Ratings &amp; 99 Reviews</td>\n",
       "    </tr>\n",
       "    <tr>\n",
       "      <th>99</th>\n",
       "      <td>4.6</td>\n",
       "      <td>11,502 Reviews</td>\n",
       "      <td>2,04,559 Ratings &amp; 11,502 Reviews</td>\n",
       "    </tr>\n",
       "  </tbody>\n",
       "</table>\n",
       "<p>100 rows × 3 columns</p>\n",
       "</div>"
      ],
      "text/plain": [
       "   Rating   Review summary                        Full review\n",
       "0     4.6   11,502 Reviews  2,04,559 Ratings & 11,502 Reviews\n",
       "1     4.6   11,502 Reviews  2,04,559 Ratings & 11,502 Reviews\n",
       "2     4.7       99 Reviews         1,102 Ratings & 99 Reviews\n",
       "3     4.6   11,502 Reviews  2,04,559 Ratings & 11,502 Reviews\n",
       "4     4.6   11,502 Reviews  2,04,559 Ratings & 11,502 Reviews\n",
       "..    ...              ...                                ...\n",
       "95    4.7       99 Reviews         1,102 Ratings & 99 Reviews\n",
       "96    4.6   11,502 Reviews  2,04,559 Ratings & 11,502 Reviews\n",
       "97    4.6   11,502 Reviews  2,04,559 Ratings & 11,502 Reviews\n",
       "98    4.7       99 Reviews         1,102 Ratings & 99 Reviews\n",
       "99    4.6   11,502 Reviews  2,04,559 Ratings & 11,502 Reviews\n",
       "\n",
       "[100 rows x 3 columns]"
      ]
     },
     "execution_count": 68,
     "metadata": {},
     "output_type": "execute_result"
    }
   ],
   "source": [
    "df = pd.DataFrame({'Rating':Rating,'Review summary':Review_summary,'Full review':Full_review})\n",
    "\n",
    "df[0:100]"
   ]
  },
  {
   "cell_type": "code",
   "execution_count": null,
   "id": "0428dd10",
   "metadata": {},
   "outputs": [],
   "source": []
  },
  {
   "cell_type": "code",
   "execution_count": null,
   "id": "99d9c2f3",
   "metadata": {},
   "outputs": [],
   "source": []
  },
  {
   "cell_type": "markdown",
   "id": "d87f073d",
   "metadata": {},
   "source": [
    "Q6: Scrape data forfirst 100 sneakers you find whenyou visit flipkart.com and search for “sneakers” inthe\n",
    "search field.\n",
    "You have to scrape 3 attributes of each sneaker:\n",
    "1. Brand\n",
    "2. ProductDescription\n",
    "3. Price\n",
    "As shown in the below image, you have to scrape the above attributes."
   ]
  },
  {
   "cell_type": "code",
   "execution_count": 69,
   "id": "e22ec69e",
   "metadata": {},
   "outputs": [],
   "source": [
    "import selenium\n",
    "import pandas as pd\n",
    "from selenium import  webdriver\n",
    "import warnings\n",
    "warnings.filterwarnings('ignore')\n",
    "from selenium.webdriver.common.by import By\n",
    "import time\n",
    "\n",
    "#lets connect with web driver\n",
    "\n",
    "driver = webdriver.Chrome()\n",
    "driver.maximize_window()\n",
    "#onpening the flipkart website on automated chrome window\n",
    "driver.get('https://www.flipkart.com/')\n",
    "time.sleep(3)"
   ]
  },
  {
   "cell_type": "code",
   "execution_count": 70,
   "id": "3c81cdc7",
   "metadata": {},
   "outputs": [],
   "source": [
    "# pop_close = driver.find_element_by_xpath(\"/html/body/div[2]/div/div/button\")\n",
    "# pop_close.click()"
   ]
  },
  {
   "cell_type": "code",
   "execution_count": 73,
   "id": "9e860dc5",
   "metadata": {},
   "outputs": [],
   "source": [
    "#search sneakers\n",
    "#search_item = driver.find_element(By.CLASS_NAME,\"_3704LK\")\n",
    "search_item = driver.find_element(By.CLASS_NAME,\"Pke_EE\")\n",
    "search_item.send_keys(\"sneakers\")\n",
    "time.sleep(3)"
   ]
  },
  {
   "cell_type": "code",
   "execution_count": 81,
   "id": "f896a1d3",
   "metadata": {},
   "outputs": [],
   "source": [
    "#click button\n",
    "#click_search_button = driver.find_element(By.XPATH,'//button[@class=\"L0Z3Pu\"]')\n",
    "click_search_button = driver.find_element(By.XPATH,'//button[@class=\"L0Z3Pu\"]')\n",
    "click_search_button.click()\n",
    "time.sleep(3)"
   ]
  },
  {
   "cell_type": "code",
   "execution_count": 82,
   "id": "ce7cdb3c",
   "metadata": {},
   "outputs": [],
   "source": [
    "Brand = []\n",
    "Product_Description = []\n",
    "Price = []"
   ]
  },
  {
   "cell_type": "code",
   "execution_count": 83,
   "id": "a9492cd6",
   "metadata": {},
   "outputs": [],
   "source": [
    "for i in range(3):\n",
    "    \n",
    "    \n",
    "    brand = driver.find_elements(By.XPATH,'//div[@class=\"_2WkVRV\"]')\n",
    "    product_des = driver.find_elements(By.XPATH,\"//div[@class='_2B099V']/a[1]\")\n",
    "    price = driver.find_elements(By.XPATH,\"//div[@class='_30jeq3']\")\n",
    "\n",
    "\n",
    "    for i in brand:\n",
    "        Brand.append(i.text)\n",
    "    for i in product_des:\n",
    "        Product_Description.append(i.text)\n",
    "    for i in price :\n",
    "        Price.append(i.text)\n",
    "    \n",
    "time.sleep(3)\n"
   ]
  },
  {
   "cell_type": "code",
   "execution_count": 84,
   "id": "21e0deaa",
   "metadata": {},
   "outputs": [],
   "source": [
    "#click on next button\n",
    "nxt_button = driver.find_element(By.XPATH,'//a[@class=\"_1LKTO3\"]')\n",
    "nxt_button.click()"
   ]
  },
  {
   "cell_type": "code",
   "execution_count": 85,
   "id": "e70fa748",
   "metadata": {},
   "outputs": [
    {
     "name": "stdout",
     "output_type": "stream",
     "text": [
      "120 120 120\n"
     ]
    }
   ],
   "source": [
    "# print length\n",
    "print(len(Brand),len(Product_Description),len(Price))\n"
   ]
  },
  {
   "cell_type": "code",
   "execution_count": 86,
   "id": "fecf476b",
   "metadata": {},
   "outputs": [
    {
     "data": {
      "text/html": [
       "<div>\n",
       "<style scoped>\n",
       "    .dataframe tbody tr th:only-of-type {\n",
       "        vertical-align: middle;\n",
       "    }\n",
       "\n",
       "    .dataframe tbody tr th {\n",
       "        vertical-align: top;\n",
       "    }\n",
       "\n",
       "    .dataframe thead th {\n",
       "        text-align: right;\n",
       "    }\n",
       "</style>\n",
       "<table border=\"1\" class=\"dataframe\">\n",
       "  <thead>\n",
       "    <tr style=\"text-align: right;\">\n",
       "      <th></th>\n",
       "      <th>Brand</th>\n",
       "      <th>Product_Description</th>\n",
       "      <th>Price</th>\n",
       "    </tr>\n",
       "  </thead>\n",
       "  <tbody>\n",
       "    <tr>\n",
       "      <th>0</th>\n",
       "      <td>kardam&amp;sons</td>\n",
       "      <td>kardam&amp;sons luxury fashionable Stylish Light W...</td>\n",
       "      <td>₹413</td>\n",
       "    </tr>\n",
       "    <tr>\n",
       "      <th>1</th>\n",
       "      <td>Peelu</td>\n",
       "      <td>Ultralightweight Premium Comfort Trendy Outdoo...</td>\n",
       "      <td>₹575</td>\n",
       "    </tr>\n",
       "    <tr>\n",
       "      <th>2</th>\n",
       "      <td>URBANBOX</td>\n",
       "      <td>Trending Stylish Casual Outdoor Sneakers Shoes...</td>\n",
       "      <td>₹299</td>\n",
       "    </tr>\n",
       "    <tr>\n",
       "      <th>3</th>\n",
       "      <td>RED TAPE</td>\n",
       "      <td>Sneaker Casual Shoes For Men | Soft Cushion In...</td>\n",
       "      <td>₹1,079</td>\n",
       "    </tr>\n",
       "    <tr>\n",
       "      <th>4</th>\n",
       "      <td>Deals4you</td>\n",
       "      <td>Sneakers For Women</td>\n",
       "      <td>₹299</td>\n",
       "    </tr>\n",
       "    <tr>\n",
       "      <th>...</th>\n",
       "      <td>...</td>\n",
       "      <td>...</td>\n",
       "      <td>...</td>\n",
       "    </tr>\n",
       "    <tr>\n",
       "      <th>95</th>\n",
       "      <td>PUMA</td>\n",
       "      <td>Fire run Running Shoes For Men</td>\n",
       "      <td>₹1,349</td>\n",
       "    </tr>\n",
       "    <tr>\n",
       "      <th>96</th>\n",
       "      <td>kardam&amp;sons</td>\n",
       "      <td>Fashionable Canvas Casual Partywear Outdoor Sn...</td>\n",
       "      <td>₹333</td>\n",
       "    </tr>\n",
       "    <tr>\n",
       "      <th>97</th>\n",
       "      <td>kardam&amp;sons</td>\n",
       "      <td>kardam&amp;sons luxury fashionable Stylish Light W...</td>\n",
       "      <td>₹411</td>\n",
       "    </tr>\n",
       "    <tr>\n",
       "      <th>98</th>\n",
       "      <td>RED TAPE</td>\n",
       "      <td>Sneakers For Men</td>\n",
       "      <td>₹1,619</td>\n",
       "    </tr>\n",
       "    <tr>\n",
       "      <th>99</th>\n",
       "      <td>streetLOOK</td>\n",
       "      <td>Latest Sneaker Casual Shoes For Men|Sneakers F...</td>\n",
       "      <td>₹549</td>\n",
       "    </tr>\n",
       "  </tbody>\n",
       "</table>\n",
       "<p>100 rows × 3 columns</p>\n",
       "</div>"
      ],
      "text/plain": [
       "          Brand                                Product_Description   Price\n",
       "0   kardam&sons  kardam&sons luxury fashionable Stylish Light W...    ₹413\n",
       "1         Peelu  Ultralightweight Premium Comfort Trendy Outdoo...    ₹575\n",
       "2      URBANBOX  Trending Stylish Casual Outdoor Sneakers Shoes...    ₹299\n",
       "3      RED TAPE  Sneaker Casual Shoes For Men | Soft Cushion In...  ₹1,079\n",
       "4     Deals4you                                 Sneakers For Women    ₹299\n",
       "..          ...                                                ...     ...\n",
       "95         PUMA                     Fire run Running Shoes For Men  ₹1,349\n",
       "96  kardam&sons  Fashionable Canvas Casual Partywear Outdoor Sn...    ₹333\n",
       "97  kardam&sons  kardam&sons luxury fashionable Stylish Light W...    ₹411\n",
       "98     RED TAPE                                   Sneakers For Men  ₹1,619\n",
       "99   streetLOOK  Latest Sneaker Casual Shoes For Men|Sneakers F...    ₹549\n",
       "\n",
       "[100 rows x 3 columns]"
      ]
     },
     "execution_count": 86,
     "metadata": {},
     "output_type": "execute_result"
    }
   ],
   "source": [
    "# create Data frame\n",
    "df = pd.DataFrame({'Brand':Brand,'Product_Description':Product_Description,'Price':Price})\n",
    "\n",
    "df[0:100]"
   ]
  },
  {
   "cell_type": "markdown",
   "id": "8cc024c9",
   "metadata": {},
   "source": [
    "Q7: Go to webpage https://www.amazon.in/ Enter “Laptop” in the search field and then click the search icon. Then set CPU Type filter to “Intel Core i7” as shown in the below image:\n",
    "After setting the filters scrape first 10 laptops data. You have to scrape 3 attributes for each laptop:\n",
    "1. Title\n",
    "2. Ratings\n",
    "3. Price3. "
   ]
  },
  {
   "cell_type": "code",
   "execution_count": 88,
   "id": "d4216e8a",
   "metadata": {},
   "outputs": [],
   "source": [
    "import selenium\n",
    "import pandas as pd\n",
    "from selenium import  webdriver\n",
    "import warnings\n",
    "warnings.filterwarnings('ignore')\n",
    "from selenium.webdriver.common.by import By\n",
    "import time\n",
    "\n",
    "#lets connect with web driver\n",
    "\n",
    "driver = webdriver.Chrome()\n",
    "driver.maximize_window()\n",
    "#onpening the flipkart website on automated chrome window\n",
    "driver.get('https://www.flipkart.com/')\n",
    "time.sleep(3)"
   ]
  },
  {
   "cell_type": "code",
   "execution_count": 89,
   "id": "3ebc7788",
   "metadata": {},
   "outputs": [],
   "source": [
    "item = driver.find_element(By.CLASS_NAME, \"Pke_EE\")\n",
    "item.send_keys('iphone11 ')\n"
   ]
  },
  {
   "cell_type": "code",
   "execution_count": 90,
   "id": "6144a472",
   "metadata": {},
   "outputs": [],
   "source": [
    "click_search_button = driver.find_element(By.CLASS_NAME,\"_2iLD__\")\n",
    "click_search_button.click()\n",
    "time.sleep(3)"
   ]
  },
  {
   "cell_type": "code",
   "execution_count": 91,
   "id": "a698459a",
   "metadata": {},
   "outputs": [],
   "source": [
    "intel_core7 = driver.find_element(By.XPATH,'//div[@class=\"_3OO5Xc\"]/input')\n",
    "intel_core7.click()\n"
   ]
  },
  {
   "cell_type": "code",
   "execution_count": 92,
   "id": "a57037ad",
   "metadata": {},
   "outputs": [],
   "source": [
    "click_search_button = driver.find_element(By.CLASS_NAME,\"L0Z3Pu\")\n",
    "click_search_button.click()\n",
    "time.sleep(3)"
   ]
  },
  {
   "cell_type": "code",
   "execution_count": 93,
   "id": "76cf6af0",
   "metadata": {},
   "outputs": [],
   "source": [
    "time.sleep(5)\n",
    "Title = []\n",
    "Ratings = []\n",
    "Price = []\n"
   ]
  },
  {
   "cell_type": "code",
   "execution_count": 94,
   "id": "7c2a360e",
   "metadata": {},
   "outputs": [],
   "source": [
    "title = driver.find_elements(By.XPATH,'//div[@class=\"_4rR01T\"]')\n",
    "rating = driver.find_elements(By.XPATH,'//div[@class=\"_3LWZlK\"]')\n",
    "price = driver.find_elements(By.XPATH,'//div[@class=\"_30jeq3 _1_WHN1\"]')\n",
    "\n",
    "\n",
    "for i in title:Title.append(i.text)\n",
    "for i in rating:Ratings.append(i.text)    \n",
    "for i in price:Price.append(i.text)\n",
    "    "
   ]
  },
  {
   "cell_type": "code",
   "execution_count": 95,
   "id": "1d1d9697",
   "metadata": {},
   "outputs": [
    {
     "data": {
      "text/html": [
       "<div>\n",
       "<style scoped>\n",
       "    .dataframe tbody tr th:only-of-type {\n",
       "        vertical-align: middle;\n",
       "    }\n",
       "\n",
       "    .dataframe tbody tr th {\n",
       "        vertical-align: top;\n",
       "    }\n",
       "\n",
       "    .dataframe thead th {\n",
       "        text-align: right;\n",
       "    }\n",
       "</style>\n",
       "<table border=\"1\" class=\"dataframe\">\n",
       "  <thead>\n",
       "    <tr style=\"text-align: right;\">\n",
       "      <th></th>\n",
       "      <th>Title</th>\n",
       "      <th>Price</th>\n",
       "    </tr>\n",
       "  </thead>\n",
       "  <tbody>\n",
       "    <tr>\n",
       "      <th>0</th>\n",
       "      <td>Apple iPhone 11 (White, 64 GB)</td>\n",
       "      <td>₹43,900</td>\n",
       "    </tr>\n",
       "    <tr>\n",
       "      <th>1</th>\n",
       "      <td>Apple iPhone 11 (White, 128 GB)</td>\n",
       "      <td>₹48,900</td>\n",
       "    </tr>\n",
       "    <tr>\n",
       "      <th>2</th>\n",
       "      <td>Apple iPhone 11 (Black, 128 GB)</td>\n",
       "      <td>₹48,900</td>\n",
       "    </tr>\n",
       "    <tr>\n",
       "      <th>3</th>\n",
       "      <td>Apple iPhone 11 (Black, 64 GB)</td>\n",
       "      <td>₹43,900</td>\n",
       "    </tr>\n",
       "    <tr>\n",
       "      <th>4</th>\n",
       "      <td>Apple iPhone 11 Pro Max (Midnight Green, 64 GB)</td>\n",
       "      <td>₹1,09,900</td>\n",
       "    </tr>\n",
       "    <tr>\n",
       "      <th>5</th>\n",
       "      <td>Apple iPhone 11 (Red, 64 GB)</td>\n",
       "      <td>₹43,900</td>\n",
       "    </tr>\n",
       "    <tr>\n",
       "      <th>6</th>\n",
       "      <td>Apple iPhone 11 Pro Max (Space Grey, 64 GB)</td>\n",
       "      <td>₹1,17,100</td>\n",
       "    </tr>\n",
       "    <tr>\n",
       "      <th>7</th>\n",
       "      <td>Apple iPhone 11 (Yellow, 64 GB)</td>\n",
       "      <td>₹43,900</td>\n",
       "    </tr>\n",
       "    <tr>\n",
       "      <th>8</th>\n",
       "      <td>Apple iPhone 11 Pro Max (Silver, 512 GB)</td>\n",
       "      <td>₹1,50,800</td>\n",
       "    </tr>\n",
       "    <tr>\n",
       "      <th>9</th>\n",
       "      <td>Apple iPhone 11 Pro Max (Midnight Green, 256 GB)</td>\n",
       "      <td>₹1,31,900</td>\n",
       "    </tr>\n",
       "  </tbody>\n",
       "</table>\n",
       "</div>"
      ],
      "text/plain": [
       "                                              Title      Price\n",
       "0                    Apple iPhone 11 (White, 64 GB)    ₹43,900\n",
       "1                   Apple iPhone 11 (White, 128 GB)    ₹48,900\n",
       "2                   Apple iPhone 11 (Black, 128 GB)    ₹48,900\n",
       "3                    Apple iPhone 11 (Black, 64 GB)    ₹43,900\n",
       "4   Apple iPhone 11 Pro Max (Midnight Green, 64 GB)  ₹1,09,900\n",
       "5                      Apple iPhone 11 (Red, 64 GB)    ₹43,900\n",
       "6       Apple iPhone 11 Pro Max (Space Grey, 64 GB)  ₹1,17,100\n",
       "7                   Apple iPhone 11 (Yellow, 64 GB)    ₹43,900\n",
       "8          Apple iPhone 11 Pro Max (Silver, 512 GB)  ₹1,50,800\n",
       "9  Apple iPhone 11 Pro Max (Midnight Green, 256 GB)  ₹1,31,900"
      ]
     },
     "execution_count": 95,
     "metadata": {},
     "output_type": "execute_result"
    }
   ],
   "source": [
    "Laptop = pd.DataFrame({'Title':Title,'Price':Price})\n",
    "Laptop[0:10]"
   ]
  },
  {
   "cell_type": "markdown",
   "id": "f5bd484e",
   "metadata": {},
   "source": [
    "Q8: Write a python program to scrape data for Top 1000 Quotes of All Time.\n",
    "The above task will be done in following steps:\n",
    "1. First get the webpagehttps://www.azquotes.com/\n",
    "2. Click on TopQuotes\n",
    "3. Than scrap a) Quote b) Author c) Type Of Quotes"
   ]
  },
  {
   "cell_type": "code",
   "execution_count": 114,
   "id": "e5df7d24",
   "metadata": {},
   "outputs": [],
   "source": [
    "import selenium\n",
    "import pandas as pd\n",
    "from selenium import  webdriver\n",
    "import warnings\n",
    "warnings.filterwarnings('ignore')\n",
    "from selenium.webdriver.common.by import By\n",
    "import time\n",
    "\n",
    "#lets connect with web driver\n",
    "\n",
    "driver = webdriver.Chrome()\n",
    "driver.maximize_window()\n",
    "#onpening the flipkart website on automated chrome window\n",
    "driver.get('https://www.azquotes.com/')\n",
    "time.sleep(3)"
   ]
  },
  {
   "cell_type": "code",
   "execution_count": 115,
   "id": "8f6b2a1d",
   "metadata": {},
   "outputs": [],
   "source": [
    "top_quote = driver.find_element(By.XPATH,'//a[@href=\"/top_quotes.html\"]')\n",
    "top_quote.click()\n"
   ]
  },
  {
   "cell_type": "code",
   "execution_count": 98,
   "id": "185c465a",
   "metadata": {},
   "outputs": [],
   "source": [
    "# click_search_button = driver.find_element(By.CLASS_NAME,\"_2iLD__\")\n",
    "# click_search_button.click()\n",
    "# time.sleep(3)"
   ]
  },
  {
   "cell_type": "code",
   "execution_count": 116,
   "id": "17ea0ab1",
   "metadata": {},
   "outputs": [],
   "source": [
    "\n",
    "Quote= []\n",
    "Author = []\n",
    "Type_Of_Quotes= []\n"
   ]
  },
  {
   "cell_type": "code",
   "execution_count": 100,
   "id": "6232fa18",
   "metadata": {},
   "outputs": [],
   "source": [
    "# for first 100 recorde show\n",
    "\n",
    "\n",
    "quote_tags=driver.find_elements(By.XPATH,'//a[@class=\"title\"]')\n",
    "for i in quote_tags:\n",
    "    quote=i.text\n",
    "    Quote.append(quote)\n",
    "    \n",
    "author_tags=driver.find_elements(By.XPATH,'//div[@class=\"author\"]/a')\n",
    "for i in author_tags:\n",
    "    author=i.text\n",
    "    Author.append(author)    \n",
    "    \n",
    "type_tags=driver.find_elements(By.XPATH,'//div[@class=\"tags\"]')\n",
    "for i in type_tags:\n",
    "    type_of=i.text\n",
    "    Type_Of_Quotes.append(type_of)    \n",
    "    "
   ]
  },
  {
   "cell_type": "code",
   "execution_count": 101,
   "id": "cb04bb74",
   "metadata": {},
   "outputs": [
    {
     "name": "stdout",
     "output_type": "stream",
     "text": [
      "100 100 100\n"
     ]
    }
   ],
   "source": [
    "print(len(Quote),len(Author),len(Type_Of_Quotes)) "
   ]
  },
  {
   "cell_type": "code",
   "execution_count": 102,
   "id": "9c01cc3c",
   "metadata": {},
   "outputs": [
    {
     "data": {
      "text/html": [
       "<div>\n",
       "<style scoped>\n",
       "    .dataframe tbody tr th:only-of-type {\n",
       "        vertical-align: middle;\n",
       "    }\n",
       "\n",
       "    .dataframe tbody tr th {\n",
       "        vertical-align: top;\n",
       "    }\n",
       "\n",
       "    .dataframe thead th {\n",
       "        text-align: right;\n",
       "    }\n",
       "</style>\n",
       "<table border=\"1\" class=\"dataframe\">\n",
       "  <thead>\n",
       "    <tr style=\"text-align: right;\">\n",
       "      <th></th>\n",
       "      <th>Quote</th>\n",
       "      <th>Author</th>\n",
       "      <th>Type Of Quotes</th>\n",
       "    </tr>\n",
       "  </thead>\n",
       "  <tbody>\n",
       "    <tr>\n",
       "      <th>0</th>\n",
       "      <td>The essence of strategy is choosing what not t...</td>\n",
       "      <td>Michael Porter</td>\n",
       "      <td>Essence, Deep Thought, Transcendentalism</td>\n",
       "    </tr>\n",
       "    <tr>\n",
       "      <th>1</th>\n",
       "      <td>One cannot and must not try to erase the past ...</td>\n",
       "      <td>Golda Meir</td>\n",
       "      <td>Inspiration, Past, Trying</td>\n",
       "    </tr>\n",
       "    <tr>\n",
       "      <th>2</th>\n",
       "      <td>Patriotism means to stand by the country. It d...</td>\n",
       "      <td>Theodore Roosevelt</td>\n",
       "      <td>Country, Peace, War</td>\n",
       "    </tr>\n",
       "    <tr>\n",
       "      <th>3</th>\n",
       "      <td>Death is something inevitable. When a man has ...</td>\n",
       "      <td>Nelson Mandela</td>\n",
       "      <td>Inspirational, Motivational, Death</td>\n",
       "    </tr>\n",
       "    <tr>\n",
       "      <th>4</th>\n",
       "      <td>You have to love a nation that celebrates its ...</td>\n",
       "      <td>Erma Bombeck</td>\n",
       "      <td>4th Of July, Food, Patriotic</td>\n",
       "    </tr>\n",
       "    <tr>\n",
       "      <th>...</th>\n",
       "      <td>...</td>\n",
       "      <td>...</td>\n",
       "      <td>...</td>\n",
       "    </tr>\n",
       "    <tr>\n",
       "      <th>95</th>\n",
       "      <td>When the going gets weird, the weird turn pro.</td>\n",
       "      <td>Hunter S. Thompson</td>\n",
       "      <td>Music, Sports, Hunting</td>\n",
       "    </tr>\n",
       "    <tr>\n",
       "      <th>96</th>\n",
       "      <td>When a train goes through a tunnel and it gets...</td>\n",
       "      <td>Corrie Ten Boom</td>\n",
       "      <td>Trust, Encouraging, Uplifting</td>\n",
       "    </tr>\n",
       "    <tr>\n",
       "      <th>97</th>\n",
       "      <td>If you think you are too small to make a diffe...</td>\n",
       "      <td>Dalai Lama</td>\n",
       "      <td>Inspirational, Funny, Change</td>\n",
       "    </tr>\n",
       "    <tr>\n",
       "      <th>98</th>\n",
       "      <td>God doesn't require us to succeed, he only req...</td>\n",
       "      <td>Mother Teresa</td>\n",
       "      <td>Success, God, Mother</td>\n",
       "    </tr>\n",
       "    <tr>\n",
       "      <th>99</th>\n",
       "      <td>Change your thoughts and you change your world.</td>\n",
       "      <td>Norman Vincent Peale</td>\n",
       "      <td>Inspirational, Motivational, Change</td>\n",
       "    </tr>\n",
       "  </tbody>\n",
       "</table>\n",
       "<p>100 rows × 3 columns</p>\n",
       "</div>"
      ],
      "text/plain": [
       "                                                Quote                Author  \\\n",
       "0   The essence of strategy is choosing what not t...        Michael Porter   \n",
       "1   One cannot and must not try to erase the past ...            Golda Meir   \n",
       "2   Patriotism means to stand by the country. It d...    Theodore Roosevelt   \n",
       "3   Death is something inevitable. When a man has ...        Nelson Mandela   \n",
       "4   You have to love a nation that celebrates its ...          Erma Bombeck   \n",
       "..                                                ...                   ...   \n",
       "95     When the going gets weird, the weird turn pro.    Hunter S. Thompson   \n",
       "96  When a train goes through a tunnel and it gets...       Corrie Ten Boom   \n",
       "97  If you think you are too small to make a diffe...            Dalai Lama   \n",
       "98  God doesn't require us to succeed, he only req...         Mother Teresa   \n",
       "99    Change your thoughts and you change your world.  Norman Vincent Peale   \n",
       "\n",
       "                              Type Of Quotes  \n",
       "0   Essence, Deep Thought, Transcendentalism  \n",
       "1                  Inspiration, Past, Trying  \n",
       "2                        Country, Peace, War  \n",
       "3         Inspirational, Motivational, Death  \n",
       "4               4th Of July, Food, Patriotic  \n",
       "..                                       ...  \n",
       "95                    Music, Sports, Hunting  \n",
       "96             Trust, Encouraging, Uplifting  \n",
       "97              Inspirational, Funny, Change  \n",
       "98                      Success, God, Mother  \n",
       "99       Inspirational, Motivational, Change  \n",
       "\n",
       "[100 rows x 3 columns]"
      ]
     },
     "execution_count": 102,
     "metadata": {},
     "output_type": "execute_result"
    }
   ],
   "source": [
    "detail = pd.DataFrame({'Quote':Quote,'Author':Author,'Type Of Quotes':Type_Of_Quotes})\n",
    "detail[0:100]\n"
   ]
  },
  {
   "cell_type": "code",
   "execution_count": 117,
   "id": "7a626dde",
   "metadata": {},
   "outputs": [],
   "source": [
    "#for next page element\n",
    "\n",
    "start=0\n",
    "end=10\n",
    "for page in range(start,end):\n",
    "   # quote_tags=driver.find_elements(By.XPATH,'//div[@class=\"wrap-block\"]/p/a[2]')\n",
    "    quote_tags=driver.find_elements(By.XPATH,'//a[@class=\"title\"]')\n",
    "    for i in quote_tags:\n",
    "        quote=i.text\n",
    "        Quote.append(quote)\n",
    "    \n",
    "   # author_tags=driver.find_elements(By.XPATH,'//div[@class=\"wrap-block\"]/div')\n",
    "    author_tags=driver.find_elements(By.XPATH,'//div[@class=\"author\"]')\n",
    "    for i in author_tags:\n",
    "        author=i.text\n",
    "        Author.append(author)    \n",
    "    \n",
    "   # type_tags=driver.find_elements(By.XPATH,'//div[@class=\"wrap-block\"]/div[2]/div')\n",
    "    type_tags=driver.find_elements(By.XPATH,'//div[@class=\"tags\"]')\n",
    "    for i in type_tags:\n",
    "        type_of=i.text\n",
    "        Type_Of_Quotes.append(type_of)   \n",
    "\n",
    "next_button=driver.find_element(By.XPATH,'//li[@class=\"next\"]')   \n",
    "next_button.click()\n",
    "    "
   ]
  },
  {
   "cell_type": "code",
   "execution_count": 118,
   "id": "ae124998",
   "metadata": {},
   "outputs": [
    {
     "name": "stdout",
     "output_type": "stream",
     "text": [
      "1000 1000 1000\n"
     ]
    }
   ],
   "source": [
    "print(len(Quote),len(Author),len(Type_Of_Quotes))"
   ]
  },
  {
   "cell_type": "code",
   "execution_count": 119,
   "id": "c3264f3e",
   "metadata": {},
   "outputs": [
    {
     "data": {
      "text/html": [
       "<div>\n",
       "<style scoped>\n",
       "    .dataframe tbody tr th:only-of-type {\n",
       "        vertical-align: middle;\n",
       "    }\n",
       "\n",
       "    .dataframe tbody tr th {\n",
       "        vertical-align: top;\n",
       "    }\n",
       "\n",
       "    .dataframe thead th {\n",
       "        text-align: right;\n",
       "    }\n",
       "</style>\n",
       "<table border=\"1\" class=\"dataframe\">\n",
       "  <thead>\n",
       "    <tr style=\"text-align: right;\">\n",
       "      <th></th>\n",
       "      <th>Quote</th>\n",
       "      <th>Author</th>\n",
       "      <th>Type Of Quotes</th>\n",
       "    </tr>\n",
       "  </thead>\n",
       "  <tbody>\n",
       "    <tr>\n",
       "      <th>0</th>\n",
       "      <td>The essence of strategy is choosing what not t...</td>\n",
       "      <td>Michael Porter</td>\n",
       "      <td>Essence, Deep Thought, Transcendentalism</td>\n",
       "    </tr>\n",
       "    <tr>\n",
       "      <th>1</th>\n",
       "      <td>One cannot and must not try to erase the past ...</td>\n",
       "      <td>Golda Meir</td>\n",
       "      <td>Inspiration, Past, Trying</td>\n",
       "    </tr>\n",
       "    <tr>\n",
       "      <th>2</th>\n",
       "      <td>Patriotism means to stand by the country. It d...</td>\n",
       "      <td>Theodore Roosevelt</td>\n",
       "      <td>Country, Peace, War</td>\n",
       "    </tr>\n",
       "    <tr>\n",
       "      <th>3</th>\n",
       "      <td>Death is something inevitable. When a man has ...</td>\n",
       "      <td>Nelson Mandela</td>\n",
       "      <td>Inspirational, Motivational, Death</td>\n",
       "    </tr>\n",
       "    <tr>\n",
       "      <th>4</th>\n",
       "      <td>You have to love a nation that celebrates its ...</td>\n",
       "      <td>Erma Bombeck</td>\n",
       "      <td>4th Of July, Food, Patriotic</td>\n",
       "    </tr>\n",
       "    <tr>\n",
       "      <th>...</th>\n",
       "      <td>...</td>\n",
       "      <td>...</td>\n",
       "      <td>...</td>\n",
       "    </tr>\n",
       "    <tr>\n",
       "      <th>995</th>\n",
       "      <td>When the going gets weird, the weird turn pro.</td>\n",
       "      <td>Hunter S. Thompson</td>\n",
       "      <td>Music, Sports, Hunting</td>\n",
       "    </tr>\n",
       "    <tr>\n",
       "      <th>996</th>\n",
       "      <td>When a train goes through a tunnel and it gets...</td>\n",
       "      <td>Corrie Ten Boom</td>\n",
       "      <td>Trust, Encouraging, Uplifting</td>\n",
       "    </tr>\n",
       "    <tr>\n",
       "      <th>997</th>\n",
       "      <td>If you think you are too small to make a diffe...</td>\n",
       "      <td>Dalai Lama</td>\n",
       "      <td>Inspirational, Funny, Change</td>\n",
       "    </tr>\n",
       "    <tr>\n",
       "      <th>998</th>\n",
       "      <td>God doesn't require us to succeed, he only req...</td>\n",
       "      <td>Mother Teresa</td>\n",
       "      <td>Success, God, Mother</td>\n",
       "    </tr>\n",
       "    <tr>\n",
       "      <th>999</th>\n",
       "      <td>Change your thoughts and you change your world.</td>\n",
       "      <td>Norman Vincent Peale</td>\n",
       "      <td>Inspirational, Motivational, Change</td>\n",
       "    </tr>\n",
       "  </tbody>\n",
       "</table>\n",
       "<p>1000 rows × 3 columns</p>\n",
       "</div>"
      ],
      "text/plain": [
       "                                                 Quote                Author  \\\n",
       "0    The essence of strategy is choosing what not t...        Michael Porter   \n",
       "1    One cannot and must not try to erase the past ...            Golda Meir   \n",
       "2    Patriotism means to stand by the country. It d...    Theodore Roosevelt   \n",
       "3    Death is something inevitable. When a man has ...        Nelson Mandela   \n",
       "4    You have to love a nation that celebrates its ...          Erma Bombeck   \n",
       "..                                                 ...                   ...   \n",
       "995     When the going gets weird, the weird turn pro.    Hunter S. Thompson   \n",
       "996  When a train goes through a tunnel and it gets...       Corrie Ten Boom   \n",
       "997  If you think you are too small to make a diffe...            Dalai Lama   \n",
       "998  God doesn't require us to succeed, he only req...         Mother Teresa   \n",
       "999    Change your thoughts and you change your world.  Norman Vincent Peale   \n",
       "\n",
       "                               Type Of Quotes  \n",
       "0    Essence, Deep Thought, Transcendentalism  \n",
       "1                   Inspiration, Past, Trying  \n",
       "2                         Country, Peace, War  \n",
       "3          Inspirational, Motivational, Death  \n",
       "4                4th Of July, Food, Patriotic  \n",
       "..                                        ...  \n",
       "995                    Music, Sports, Hunting  \n",
       "996             Trust, Encouraging, Uplifting  \n",
       "997              Inspirational, Funny, Change  \n",
       "998                      Success, God, Mother  \n",
       "999       Inspirational, Motivational, Change  \n",
       "\n",
       "[1000 rows x 3 columns]"
      ]
     },
     "execution_count": 119,
     "metadata": {},
     "output_type": "execute_result"
    }
   ],
   "source": [
    "detail = pd.DataFrame({'Quote':Quote,'Author':Author,'Type Of Quotes':Type_Of_Quotes})\n",
    "detail[0:1000]\n"
   ]
  },
  {
   "cell_type": "markdown",
   "id": "275a81a1",
   "metadata": {},
   "source": [
    "Q9: Write a python program to display list of respected former Prime Ministers of India(i.e. Name, Born-Dead,\n",
    "Term of office, Remarks) from https://www.jagranjosh.com/.\n",
    "This task will be done in following steps:\n",
    "1. First get the webpagehttps://www.jagranjosh.com/\n",
    "2. Then You have to click on the GK option\n",
    "3. Then click on the List of all Prime Ministers of India\n",
    "4. Then scrap the mentioned data and make theDataFrame."
   ]
  },
  {
   "cell_type": "code",
   "execution_count": 146,
   "id": "7503cc04",
   "metadata": {},
   "outputs": [],
   "source": [
    "import selenium\n",
    "import pandas as pd\n",
    "from selenium import  webdriver\n",
    "import warnings\n",
    "warnings.filterwarnings('ignore')\n",
    "from selenium.webdriver.common.by import By\n",
    "import time\n",
    "\n",
    "#lets connect with web driver\n",
    "\n",
    "driver = webdriver.Chrome()\n",
    "driver.maximize_window()\n",
    "#onpening the flipkart website on automated chrome window\n",
    "driver.get('https://www.jagranjosh.com/')\n",
    "time.sleep(3)"
   ]
  },
  {
   "cell_type": "code",
   "execution_count": 147,
   "id": "8ff54fcf",
   "metadata": {},
   "outputs": [],
   "source": [
    "gk = driver.find_element(By.XPATH,'//ul[@class=\"Header_navLink__8eXbJ\"]/li[3]')\n",
    "gk.click()\n",
    "time.sleep(3)\n"
   ]
  },
  {
   "cell_type": "code",
   "execution_count": 148,
   "id": "ea1e474a",
   "metadata": {},
   "outputs": [],
   "source": [
    "gk_explore = driver.find_element(By.XPATH,'//a[@class=\"Landing_Btn__pXeh_ Landing_BtnOutlineDanger__rK5j_\"]')\n",
    "gk_explore = driver.find_element(By.XPATH,'//section[@class=\"Tags_Tags__NqnCB\"]/ul/li[14]')\n",
    "gk_explore.click()\n"
   ]
  },
  {
   "cell_type": "code",
   "execution_count": 149,
   "id": "201ef302",
   "metadata": {},
   "outputs": [],
   "source": [
    "# gk_option = driver.find_element(By.XPATH,'/html/body/div[1]/header/nav/div/div/div[3]/ul/li[3]/a')\n",
    "# gk_option.click()\n",
    "prime_ministers_option= driver.find_element(By.XPATH,'/html/body/div/main/div[1]/div[1]/section/div/ul/li[2]/article/h3/a')\n",
    "prime_ministers_option.click()"
   ]
  },
  {
   "cell_type": "code",
   "execution_count": 135,
   "id": "b8a6e6c2",
   "metadata": {},
   "outputs": [],
   "source": [
    "prime_ministers_option = driver.find_element(By.XPATH, '//div[@class=\"TableData\"]')\n",
    "prime_ministers_option.click()\n",
    "time.sleep(2)\n"
   ]
  },
  {
   "cell_type": "code",
   "execution_count": null,
   "id": "48e0da4c",
   "metadata": {},
   "outputs": [],
   "source": [
    "\n",
    "\n",
    "#title = driver.find_elements(By.XPATH,'//div[@class=\"TableData\"]')\n",
    "pm_data = []\n",
    "for pm in driver.find_elements(By.XPATH, '//div[@class=\"TableData\"]'):\n",
    "    columns = pm.find_elements(By.TAG_NAME, \"td\")\n",
    "    name = columns[0].text\n",
    "    born_dead = columns[1].text\n",
    "    term_of_office = columns[2].text\n",
    "    remarks = columns[3].text\n",
    "    "
   ]
  },
  {
   "cell_type": "code",
   "execution_count": 153,
   "id": "dfafbf21",
   "metadata": {},
   "outputs": [],
   "source": [
    "name=[]\n",
    "born_dead =[]\n",
    "term_of_office=[]\n",
    "remarks=[]\n",
    "\n",
    "name_tags=driver.find_elements(By.XPATH,'//div[@class=\"TableData\"]/table/tbody/tr/th[2]/div')\n",
    "for i in name_tags:\n",
    "    name_of=i.text\n",
    "    name.append(name_of)\n",
    "        \n",
    "born_tags=driver.find_elements(By.XPATH,'//div[@class=\"TableData\"]/table/tbody/tr/th[3]/div')\n",
    "for i in born_tags:\n",
    "    born_of=i.text\n",
    "    born_dead.append(born_of)\n",
    "            \n",
    "term_tags=driver.find_elements(By.XPATH,'//div[@class=\"TableData\"]/table/tbody/tr/th[4]/div')\n",
    "for i in term_tags:\n",
    "    term_of=i.text\n",
    "    term_of_office.append(term_of)\n",
    "            \n",
    "remark_tags=driver.find_elements(By.XPATH,'//div[@class=\"TableData\"]/table/tbody/tr/th[5]/div')\n",
    "for i in remark_tags:\n",
    "    remark_of=i.text\n",
    "    remarks.append(remark_of)\n",
    "            \n",
    "    "
   ]
  },
  {
   "cell_type": "code",
   "execution_count": 154,
   "id": "86c83248",
   "metadata": {},
   "outputs": [
    {
     "name": "stdout",
     "output_type": "stream",
     "text": [
      "1 1 1 1\n"
     ]
    }
   ],
   "source": [
    "print(len(name),len(born_dead),len(term_of_office),len(remarks))"
   ]
  },
  {
   "cell_type": "code",
   "execution_count": 155,
   "id": "94821907",
   "metadata": {},
   "outputs": [
    {
     "data": {
      "text/html": [
       "<div>\n",
       "<style scoped>\n",
       "    .dataframe tbody tr th:only-of-type {\n",
       "        vertical-align: middle;\n",
       "    }\n",
       "\n",
       "    .dataframe tbody tr th {\n",
       "        vertical-align: top;\n",
       "    }\n",
       "\n",
       "    .dataframe thead th {\n",
       "        text-align: right;\n",
       "    }\n",
       "</style>\n",
       "<table border=\"1\" class=\"dataframe\">\n",
       "  <thead>\n",
       "    <tr style=\"text-align: right;\">\n",
       "      <th></th>\n",
       "      <th>Name</th>\n",
       "      <th>Born-Dead</th>\n",
       "      <th>Term of Office</th>\n",
       "      <th>Remarks</th>\n",
       "    </tr>\n",
       "  </thead>\n",
       "  <tbody>\n",
       "    <tr>\n",
       "      <th>0</th>\n",
       "      <td>PM Name</td>\n",
       "      <td>Born-Dead</td>\n",
       "      <td>Term of office</td>\n",
       "      <td>Remark</td>\n",
       "    </tr>\n",
       "  </tbody>\n",
       "</table>\n",
       "</div>"
      ],
      "text/plain": [
       "      Name  Born-Dead  Term of Office Remarks\n",
       "0  PM Name  Born-Dead  Term of office  Remark"
      ]
     },
     "execution_count": 155,
     "metadata": {},
     "output_type": "execute_result"
    }
   ],
   "source": [
    "df = pd.DataFrame({\n",
    "        'Name': name,\n",
    "        'Born-Dead': born_dead,\n",
    "        'Term of Office': term_of_office,\n",
    "        'Remarks': remarks\n",
    "    })\n",
    "df"
   ]
  },
  {
   "cell_type": "code",
   "execution_count": null,
   "id": "9f51ec45",
   "metadata": {},
   "outputs": [],
   "source": []
  },
  {
   "cell_type": "code",
   "execution_count": null,
   "id": "e2c094d4",
   "metadata": {},
   "outputs": [],
   "source": []
  },
  {
   "cell_type": "markdown",
   "id": "9578c053",
   "metadata": {},
   "source": [
    "Q10: Write a python program to display list of 50 Most expensive cars in the world (i.e.\n",
    "Car name and Price) from https://www.motor1.com/\n",
    "This task will be done in following steps:\n",
    "1. First get the webpage https://www.motor1.com/\n",
    "2. Then You have to type in the search bar ’50 most expensive cars’\n",
    "3. Then click on 50 most expensive carsin the world..\n",
    "4. Then scrap the mentioned data and make the dataframe."
   ]
  },
  {
   "cell_type": "code",
   "execution_count": 143,
   "id": "b1043b3e",
   "metadata": {},
   "outputs": [],
   "source": [
    "#import all required libraries \n",
    "import selenium\n",
    "import pandas as pd\n",
    "from selenium import  webdriver\n",
    "import warnings\n",
    "warnings.filterwarnings('ignore')\n",
    "from selenium.webdriver.common.by import By\n",
    "import time\n",
    "\n",
    "driver = webdriver.Chrome()\n",
    "maximize = driver.maximize_window()\n",
    "\n",
    "driver.get('https://www.motor1.com/')\n",
    "time.sleep(3)"
   ]
  },
  {
   "cell_type": "code",
   "execution_count": 144,
   "id": "b07ccd20",
   "metadata": {},
   "outputs": [
    {
     "ename": "NoSuchWindowException",
     "evalue": "Message: no such window: target window already closed\nfrom unknown error: web view not found\n  (Session info: chrome=121.0.6167.140)\nStacktrace:\n\tGetHandleVerifier [0x00007FF712CD5E42+3538674]\n\t(No symbol) [0x00007FF7128F4C02]\n\t(No symbol) [0x00007FF7127A5AEB]\n\t(No symbol) [0x00007FF71278288C]\n\t(No symbol) [0x00007FF712815DD7]\n\t(No symbol) [0x00007FF71282B40F]\n\t(No symbol) [0x00007FF71280EE53]\n\t(No symbol) [0x00007FF7127DF514]\n\t(No symbol) [0x00007FF7127E0631]\n\tGetHandleVerifier [0x00007FF712D06CAD+3738973]\n\tGetHandleVerifier [0x00007FF712D5C506+4089270]\n\tGetHandleVerifier [0x00007FF712D54823+4057299]\n\tGetHandleVerifier [0x00007FF712A25C49+720121]\n\t(No symbol) [0x00007FF71290126F]\n\t(No symbol) [0x00007FF7128FC304]\n\t(No symbol) [0x00007FF7128FC432]\n\t(No symbol) [0x00007FF7128EBD04]\n\tBaseThreadInitThunk [0x00007FFB765B257D+29]\n\tRtlUserThreadStart [0x00007FFB7860AA58+40]\n",
     "output_type": "error",
     "traceback": [
      "\u001b[1;31m---------------------------------------------------------------------------\u001b[0m",
      "\u001b[1;31mNoSuchWindowException\u001b[0m                     Traceback (most recent call last)",
      "Cell \u001b[1;32mIn[144], line 1\u001b[0m\n\u001b[1;32m----> 1\u001b[0m search_bar \u001b[38;5;241m=\u001b[39m \u001b[43mdriver\u001b[49m\u001b[38;5;241;43m.\u001b[39;49m\u001b[43mfind_element\u001b[49m\u001b[43m(\u001b[49m\u001b[43mBy\u001b[49m\u001b[38;5;241;43m.\u001b[39;49m\u001b[43mXPATH\u001b[49m\u001b[43m,\u001b[49m\u001b[43m \u001b[49m\u001b[38;5;124;43m'\u001b[39;49m\u001b[38;5;124;43m//input[@class=\u001b[39;49m\u001b[38;5;124;43m\"\u001b[39;49m\u001b[38;5;124;43mm1-search-panel-input m1-search-form-text\u001b[39;49m\u001b[38;5;124;43m\"\u001b[39;49m\u001b[38;5;124;43m]\u001b[39;49m\u001b[38;5;124;43m'\u001b[39;49m\u001b[43m)\u001b[49m\n\u001b[0;32m      2\u001b[0m search_bar\u001b[38;5;241m.\u001b[39msend_keys(\u001b[38;5;124m'\u001b[39m\u001b[38;5;124m50 most expensive cars\u001b[39m\u001b[38;5;124m'\u001b[39m)\n",
      "File \u001b[1;32m~\\anaconda3\\lib\\site-packages\\selenium\\webdriver\\remote\\webdriver.py:742\u001b[0m, in \u001b[0;36mWebDriver.find_element\u001b[1;34m(self, by, value)\u001b[0m\n\u001b[0;32m    739\u001b[0m     by \u001b[38;5;241m=\u001b[39m By\u001b[38;5;241m.\u001b[39mCSS_SELECTOR\n\u001b[0;32m    740\u001b[0m     value \u001b[38;5;241m=\u001b[39m \u001b[38;5;124mf\u001b[39m\u001b[38;5;124m'\u001b[39m\u001b[38;5;124m[name=\u001b[39m\u001b[38;5;124m\"\u001b[39m\u001b[38;5;132;01m{\u001b[39;00mvalue\u001b[38;5;132;01m}\u001b[39;00m\u001b[38;5;124m\"\u001b[39m\u001b[38;5;124m]\u001b[39m\u001b[38;5;124m'\u001b[39m\n\u001b[1;32m--> 742\u001b[0m \u001b[38;5;28;01mreturn\u001b[39;00m \u001b[38;5;28;43mself\u001b[39;49m\u001b[38;5;241;43m.\u001b[39;49m\u001b[43mexecute\u001b[49m\u001b[43m(\u001b[49m\u001b[43mCommand\u001b[49m\u001b[38;5;241;43m.\u001b[39;49m\u001b[43mFIND_ELEMENT\u001b[49m\u001b[43m,\u001b[49m\u001b[43m \u001b[49m\u001b[43m{\u001b[49m\u001b[38;5;124;43m\"\u001b[39;49m\u001b[38;5;124;43musing\u001b[39;49m\u001b[38;5;124;43m\"\u001b[39;49m\u001b[43m:\u001b[49m\u001b[43m \u001b[49m\u001b[43mby\u001b[49m\u001b[43m,\u001b[49m\u001b[43m \u001b[49m\u001b[38;5;124;43m\"\u001b[39;49m\u001b[38;5;124;43mvalue\u001b[39;49m\u001b[38;5;124;43m\"\u001b[39;49m\u001b[43m:\u001b[49m\u001b[43m \u001b[49m\u001b[43mvalue\u001b[49m\u001b[43m}\u001b[49m\u001b[43m)\u001b[49m[\u001b[38;5;124m\"\u001b[39m\u001b[38;5;124mvalue\u001b[39m\u001b[38;5;124m\"\u001b[39m]\n",
      "File \u001b[1;32m~\\anaconda3\\lib\\site-packages\\selenium\\webdriver\\remote\\webdriver.py:348\u001b[0m, in \u001b[0;36mWebDriver.execute\u001b[1;34m(self, driver_command, params)\u001b[0m\n\u001b[0;32m    346\u001b[0m response \u001b[38;5;241m=\u001b[39m \u001b[38;5;28mself\u001b[39m\u001b[38;5;241m.\u001b[39mcommand_executor\u001b[38;5;241m.\u001b[39mexecute(driver_command, params)\n\u001b[0;32m    347\u001b[0m \u001b[38;5;28;01mif\u001b[39;00m response:\n\u001b[1;32m--> 348\u001b[0m     \u001b[38;5;28;43mself\u001b[39;49m\u001b[38;5;241;43m.\u001b[39;49m\u001b[43merror_handler\u001b[49m\u001b[38;5;241;43m.\u001b[39;49m\u001b[43mcheck_response\u001b[49m\u001b[43m(\u001b[49m\u001b[43mresponse\u001b[49m\u001b[43m)\u001b[49m\n\u001b[0;32m    349\u001b[0m     response[\u001b[38;5;124m\"\u001b[39m\u001b[38;5;124mvalue\u001b[39m\u001b[38;5;124m\"\u001b[39m] \u001b[38;5;241m=\u001b[39m \u001b[38;5;28mself\u001b[39m\u001b[38;5;241m.\u001b[39m_unwrap_value(response\u001b[38;5;241m.\u001b[39mget(\u001b[38;5;124m\"\u001b[39m\u001b[38;5;124mvalue\u001b[39m\u001b[38;5;124m\"\u001b[39m, \u001b[38;5;28;01mNone\u001b[39;00m))\n\u001b[0;32m    350\u001b[0m     \u001b[38;5;28;01mreturn\u001b[39;00m response\n",
      "File \u001b[1;32m~\\anaconda3\\lib\\site-packages\\selenium\\webdriver\\remote\\errorhandler.py:229\u001b[0m, in \u001b[0;36mErrorHandler.check_response\u001b[1;34m(self, response)\u001b[0m\n\u001b[0;32m    227\u001b[0m         alert_text \u001b[38;5;241m=\u001b[39m value[\u001b[38;5;124m\"\u001b[39m\u001b[38;5;124malert\u001b[39m\u001b[38;5;124m\"\u001b[39m]\u001b[38;5;241m.\u001b[39mget(\u001b[38;5;124m\"\u001b[39m\u001b[38;5;124mtext\u001b[39m\u001b[38;5;124m\"\u001b[39m)\n\u001b[0;32m    228\u001b[0m     \u001b[38;5;28;01mraise\u001b[39;00m exception_class(message, screen, stacktrace, alert_text)  \u001b[38;5;66;03m# type: ignore[call-arg]  # mypy is not smart enough here\u001b[39;00m\n\u001b[1;32m--> 229\u001b[0m \u001b[38;5;28;01mraise\u001b[39;00m exception_class(message, screen, stacktrace)\n",
      "\u001b[1;31mNoSuchWindowException\u001b[0m: Message: no such window: target window already closed\nfrom unknown error: web view not found\n  (Session info: chrome=121.0.6167.140)\nStacktrace:\n\tGetHandleVerifier [0x00007FF712CD5E42+3538674]\n\t(No symbol) [0x00007FF7128F4C02]\n\t(No symbol) [0x00007FF7127A5AEB]\n\t(No symbol) [0x00007FF71278288C]\n\t(No symbol) [0x00007FF712815DD7]\n\t(No symbol) [0x00007FF71282B40F]\n\t(No symbol) [0x00007FF71280EE53]\n\t(No symbol) [0x00007FF7127DF514]\n\t(No symbol) [0x00007FF7127E0631]\n\tGetHandleVerifier [0x00007FF712D06CAD+3738973]\n\tGetHandleVerifier [0x00007FF712D5C506+4089270]\n\tGetHandleVerifier [0x00007FF712D54823+4057299]\n\tGetHandleVerifier [0x00007FF712A25C49+720121]\n\t(No symbol) [0x00007FF71290126F]\n\t(No symbol) [0x00007FF7128FC304]\n\t(No symbol) [0x00007FF7128FC432]\n\t(No symbol) [0x00007FF7128EBD04]\n\tBaseThreadInitThunk [0x00007FFB765B257D+29]\n\tRtlUserThreadStart [0x00007FFB7860AA58+40]\n"
     ]
    }
   ],
   "source": [
    "search_bar = driver.find_element(By.XPATH, '//input[@class=\"m1-search-panel-input m1-search-form-text\"]')\n",
    "search_bar.send_keys('50 most expensive cars')\n",
    "\n",
    "# search_bar = driver.search_element(By.CLASS_NAME,'m1-search-panel-input m1-search-form-text')\n",
    "# search_bar.send_keys('50 most expensive cars')"
   ]
  },
  {
   "cell_type": "code",
   "execution_count": null,
   "id": "25bdf3b5",
   "metadata": {},
   "outputs": [],
   "source": [
    "search_form = driver.find_element(By.XPATH, '//button[@class=\"m1-search-panel-button m1-search-form-button-animate icon-search-svg\"]')\n",
    "search_form.submit()\n",
    "time.sleep(2)\n",
    "# search=driver.find_element(By.CLASS_NAME,\"m1-search-panel-button m1-search-form-button-animate icon-search-svg\")\n",
    "# search.click()\n"
   ]
  },
  {
   "cell_type": "code",
   "execution_count": null,
   "id": "3929c4af",
   "metadata": {},
   "outputs": [],
   "source": [
    "# time.sleep(2)"
   ]
  },
  {
   "cell_type": "code",
   "execution_count": 139,
   "id": "a4c1166e",
   "metadata": {},
   "outputs": [],
   "source": [
    "result_link = driver.find_element(By.XPATH, '/html/body/div[10]/div[9]/div/div[1]/div/div/div[2]/div/div[1]/h3/a')\n",
    "result_link.click()\n"
   ]
  },
  {
   "cell_type": "code",
   "execution_count": 140,
   "id": "abfb993f",
   "metadata": {},
   "outputs": [],
   "source": [
    "\n",
    "Price=[]\n",
    "car_name=[]\n",
    "# for car in driver.find_elements(By.CLASS_NAME, 'article-body'):\n",
    "#     car_name = car.find_element(By.TAG_NAME, 'h2').text.strip()\n",
    "#     car_price = car.find_element(By.TAG_NAME, 'p').text.strip()\n",
    "    \n",
    "    \n",
    "#     car_data.append({\n",
    "#         'Car Name': car_name,\n",
    "#         'Price': car_price\n",
    "#     })\n",
    "\n",
    "\n",
    "\n",
    "price_tags=driver.find_elements(By.XPATH,'//div[@class=\"postBody description e-content\"]/p/strong')\n",
    "for i in price_tags:\n",
    "    price=i.text\n",
    "    Price.append(price)\n",
    "    \n",
    "car_name_tag=driver.find_elements(By.XPATH,'//h3[@class=\"subheader\"]')\n",
    "for i in car_name_tag:\n",
    "    name=i.text\n",
    "    car_name.append(name)\n",
    "                \n",
    "    "
   ]
  },
  {
   "cell_type": "code",
   "execution_count": 141,
   "id": "6ae0a426",
   "metadata": {},
   "outputs": [
    {
     "name": "stdout",
     "output_type": "stream",
     "text": [
      "50 51\n"
     ]
    }
   ],
   "source": [
    "print(len(Price),len(car_name))"
   ]
  },
  {
   "cell_type": "code",
   "execution_count": 142,
   "id": "83043e22",
   "metadata": {},
   "outputs": [
    {
     "data": {
      "text/html": [
       "<div>\n",
       "<style scoped>\n",
       "    .dataframe tbody tr th:only-of-type {\n",
       "        vertical-align: middle;\n",
       "    }\n",
       "\n",
       "    .dataframe tbody tr th {\n",
       "        vertical-align: top;\n",
       "    }\n",
       "\n",
       "    .dataframe thead th {\n",
       "        text-align: right;\n",
       "    }\n",
       "</style>\n",
       "<table border=\"1\" class=\"dataframe\">\n",
       "  <thead>\n",
       "    <tr style=\"text-align: right;\">\n",
       "      <th></th>\n",
       "      <th>Price</th>\n",
       "      <th>Car Name</th>\n",
       "    </tr>\n",
       "  </thead>\n",
       "  <tbody>\n",
       "    <tr>\n",
       "      <th>0</th>\n",
       "      <td>[Price: $1.5 Million, Price: $1.7 Million, Pri...</td>\n",
       "      <td>[Aston Martin Valour, McLaren Elva, Czinger 21...</td>\n",
       "    </tr>\n",
       "  </tbody>\n",
       "</table>\n",
       "</div>"
      ],
      "text/plain": [
       "                                               Price  \\\n",
       "0  [Price: $1.5 Million, Price: $1.7 Million, Pri...   \n",
       "\n",
       "                                            Car Name  \n",
       "0  [Aston Martin Valour, McLaren Elva, Czinger 21...  "
      ]
     },
     "execution_count": 142,
     "metadata": {},
     "output_type": "execute_result"
    }
   ],
   "source": [
    "data=[{'Price':Price,'Car Name':car_name}]\n",
    "\n",
    "df=pd.DataFrame(data)\n",
    "df[0:50]"
   ]
  },
  {
   "cell_type": "code",
   "execution_count": null,
   "id": "945ecb73",
   "metadata": {},
   "outputs": [],
   "source": [
    "df = pd.DataFrame({'Price':Price,'Car Name':car_name})\n",
    "\n",
    "df[0:50]\n",
    "\n"
   ]
  },
  {
   "cell_type": "code",
   "execution_count": null,
   "id": "bb20e4db",
   "metadata": {},
   "outputs": [],
   "source": []
  },
  {
   "cell_type": "code",
   "execution_count": null,
   "id": "cf49382e",
   "metadata": {},
   "outputs": [],
   "source": []
  },
  {
   "cell_type": "code",
   "execution_count": null,
   "id": "c3eec6e9",
   "metadata": {},
   "outputs": [],
   "source": []
  },
  {
   "cell_type": "code",
   "execution_count": null,
   "id": "8c6ec8cd",
   "metadata": {},
   "outputs": [],
   "source": []
  },
  {
   "cell_type": "code",
   "execution_count": null,
   "id": "38700730",
   "metadata": {},
   "outputs": [],
   "source": []
  },
  {
   "cell_type": "code",
   "execution_count": null,
   "id": "7a7f36bd",
   "metadata": {},
   "outputs": [],
   "source": []
  },
  {
   "cell_type": "code",
   "execution_count": null,
   "id": "78a53bc3",
   "metadata": {},
   "outputs": [],
   "source": []
  }
 ],
 "metadata": {
  "kernelspec": {
   "display_name": "Python 3 (ipykernel)",
   "language": "python",
   "name": "python3"
  },
  "language_info": {
   "codemirror_mode": {
    "name": "ipython",
    "version": 3
   },
   "file_extension": ".py",
   "mimetype": "text/x-python",
   "name": "python",
   "nbconvert_exporter": "python",
   "pygments_lexer": "ipython3",
   "version": "3.10.9"
  }
 },
 "nbformat": 4,
 "nbformat_minor": 5
}
